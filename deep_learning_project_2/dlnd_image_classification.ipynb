{
 "cells": [
  {
   "cell_type": "markdown",
   "metadata": {
    "collapsed": true
   },
   "source": [
    "# Image Classification\n",
    "In this project, you'll classify images from the [CIFAR-10 dataset](https://www.cs.toronto.edu/~kriz/cifar.html).  The dataset consists of airplanes, dogs, cats, and other objects. You'll preprocess the images, then train a convolutional neural network on all the samples. The images need to be normalized and the labels need to be one-hot encoded.  You'll get to apply what you learned and build a convolutional, max pooling, dropout, and fully connected layers.  At the end, you'll get to see your neural network's predictions on the sample images.\n",
    "## Get the Data\n",
    "Run the following cell to download the [CIFAR-10 dataset for python](https://www.cs.toronto.edu/~kriz/cifar-10-python.tar.gz)."
   ]
  },
  {
   "cell_type": "code",
   "execution_count": null,
   "metadata": {
    "collapsed": false
   },
   "outputs": [],
   "source": [
    "\"\"\"\n",
    "DON'T MODIFY ANYTHING IN THIS CELL THAT IS BELOW THIS LINE\n",
    "\"\"\"\n",
    "from urllib.request import urlretrieve\n",
    "from os.path import isfile, isdir\n",
    "from tqdm import tqdm\n",
    "import problem_unittests as tests\n",
    "import tarfile\n",
    "\n",
    "cifar10_dataset_folder_path = 'cifar-10-batches-py'\n",
    "\n",
    "class DLProgress(tqdm):\n",
    "    last_block = 0\n",
    "\n",
    "    def hook(self, block_num=1, block_size=1, total_size=None):\n",
    "        self.total = total_size\n",
    "        self.update((block_num - self.last_block) * block_size)\n",
    "        self.last_block = block_num\n",
    "\n",
    "if not isfile('cifar-10-python.tar.gz'):\n",
    "    with DLProgress(unit='B', unit_scale=True, miniters=1, desc='CIFAR-10 Dataset') as pbar:\n",
    "        urlretrieve(\n",
    "            'https://www.cs.toronto.edu/~kriz/cifar-10-python.tar.gz',\n",
    "            'cifar-10-python.tar.gz',\n",
    "            pbar.hook)\n",
    "\n",
    "if not isdir(cifar10_dataset_folder_path):\n",
    "    with tarfile.open('cifar-10-python.tar.gz') as tar:\n",
    "        tar.extractall()\n",
    "        tar.close()\n",
    "\n",
    "\n",
    "tests.test_folder_path(cifar10_dataset_folder_path)"
   ]
  },
  {
   "cell_type": "markdown",
   "metadata": {},
   "source": [
    "## Explore the Data\n",
    "The dataset is broken into batches to prevent your machine from running out of memory.  The CIFAR-10 dataset consists of 5 batches, named `data_batch_1`, `data_batch_2`, etc.. Each batch contains the labels and images that are one of the following:\n",
    "* airplane\n",
    "* automobile\n",
    "* bird\n",
    "* cat\n",
    "* deer\n",
    "* dog\n",
    "* frog\n",
    "* horse\n",
    "* ship\n",
    "* truck\n",
    "\n",
    "Understanding a dataset is part of making predictions on the data.  Play around with the code cell below by changing the `batch_id` and `sample_id`. The `batch_id` is the id for a batch (1-5). The `sample_id` is the id for a image and label pair in the batch.\n",
    "\n",
    "Ask yourself \"What are all possible labels?\", \"What is the range of values for the image data?\", \"Are the labels in order or random?\".  Answers to questions like these will help you preprocess the data and end up with better predictions."
   ]
  },
  {
   "cell_type": "code",
   "execution_count": null,
   "metadata": {
    "collapsed": false
   },
   "outputs": [],
   "source": [
    "%matplotlib inline\n",
    "%config InlineBackend.figure_format = 'retina'\n",
    "\n",
    "import helper\n",
    "import numpy as np\n",
    "\n",
    "# Explore the dataset\n",
    "batch_id = 4\n",
    "sample_id = 25\n",
    "helper.display_stats(cifar10_dataset_folder_path, batch_id, sample_id)"
   ]
  },
  {
   "cell_type": "code",
   "execution_count": null,
   "metadata": {
    "collapsed": false
   },
   "outputs": [],
   "source": [
    "features, labels = helper.load_cfar10_batch(cifar10_dataset_folder_path, batch_id)"
   ]
  },
  {
   "cell_type": "code",
   "execution_count": null,
   "metadata": {
    "collapsed": true
   },
   "outputs": [],
   "source": [
    "def summary(x):\n",
    "    return \"min=%.4f 25%%=%.4f mean=%.4f median=%.4f 75%%=%.4f max=%.4f\" % \\\n",
    "    (np.min(x), np.percentile(x,0.25), np.mean(x), np.median(x), np.percentile(x,0.75), np.max(x))"
   ]
  },
  {
   "cell_type": "code",
   "execution_count": null,
   "metadata": {
    "collapsed": false,
    "scrolled": true
   },
   "outputs": [],
   "source": [
    "print(type(features),type(labels))\n",
    "print(features.dtype,features.shape)\n",
    "\n",
    "print(\"feature:\", summary(features))\n",
    "print(\"  label:\", summary(labels))"
   ]
  },
  {
   "cell_type": "markdown",
   "metadata": {},
   "source": [
    "## Implement Preprocess Functions\n",
    "### Normalize\n",
    "In the cell below, implement the `normalize` function to take in image data, `x`, and return it as a normalized Numpy array. The values should be in the range of 0 to 1, inclusive.  The return object should be the same shape as `x`."
   ]
  },
  {
   "cell_type": "code",
   "execution_count": null,
   "metadata": {
    "collapsed": false
   },
   "outputs": [],
   "source": [
    "def normalize(x):\n",
    "    \"\"\"\n",
    "    Normalize a list of sample image data in the range of 0 to 1\n",
    "    : x: List of image data.  The image shape is (32, 32, 3)\n",
    "    : return: Numpy array of normalize data\n",
    "    \"\"\"\n",
    "    # TODO: Implement Function\n",
    "    return x/255\n",
    "\n",
    "\n",
    "\"\"\"\n",
    "DON'T MODIFY ANYTHING IN THIS CELL THAT IS BELOW THIS LINE\n",
    "\"\"\"\n",
    "tests.test_normalize(normalize)"
   ]
  },
  {
   "cell_type": "markdown",
   "metadata": {},
   "source": [
    "### One-hot encode\n",
    "Just like the previous code cell, you'll be implementing a function for preprocessing.  This time, you'll implement the `one_hot_encode` function. The input, `x`, are a list of labels.  Implement the function to return the list of labels as One-Hot encoded Numpy array.  The possible values for labels are 0 to 9. The one-hot encoding function should return the same encoding for each value between each call to `one_hot_encode`.  Make sure to save the map of encodings outside the function.\n",
    "\n",
    "Hint: Don't reinvent the wheel."
   ]
  },
  {
   "cell_type": "code",
   "execution_count": null,
   "metadata": {
    "collapsed": false
   },
   "outputs": [],
   "source": [
    "def one_hot_encode(x):\n",
    "    \"\"\"\n",
    "    One hot encode a list of sample labels. Return a one-hot encoded vector for each label.\n",
    "    : x: List of sample Labels\n",
    "    : return: Numpy array of one-hot encoded labels\n",
    "    \"\"\"\n",
    "    # TODO: Implement Function\n",
    "    y = np.zeros((len(x),10), dtype=np.int)\n",
    "    y[range(len(x)),x] = 1\n",
    "    return y\n",
    "\n",
    "\n",
    "\"\"\"\n",
    "DON'T MODIFY ANYTHING IN THIS CELL THAT IS BELOW THIS LINE\n",
    "\"\"\"\n",
    "tests.test_one_hot_encode(one_hot_encode)"
   ]
  },
  {
   "cell_type": "markdown",
   "metadata": {},
   "source": [
    "### Randomize Data\n",
    "As you saw from exploring the data above, the order of the samples are randomized.  It doesn't hurt to randomize it again, but you don't need to for this dataset."
   ]
  },
  {
   "cell_type": "markdown",
   "metadata": {},
   "source": [
    "## Preprocess all the data and save it\n",
    "Running the code cell below will preprocess all the CIFAR-10 data and save it to file. The code below also uses 10% of the training data for validation."
   ]
  },
  {
   "cell_type": "code",
   "execution_count": null,
   "metadata": {
    "collapsed": false
   },
   "outputs": [],
   "source": [
    "\"\"\"\n",
    "DON'T MODIFY ANYTHING IN THIS CELL\n",
    "\"\"\"\n",
    "# Preprocess Training, Validation, and Testing Data\n",
    "helper.preprocess_and_save_data(cifar10_dataset_folder_path, normalize, one_hot_encode)"
   ]
  },
  {
   "cell_type": "markdown",
   "metadata": {},
   "source": [
    "# Check Point\n",
    "This is your first checkpoint.  If you ever decide to come back to this notebook or have to restart the notebook, you can start from here.  The preprocessed data has been saved to disk."
   ]
  },
  {
   "cell_type": "code",
   "execution_count": 1,
   "metadata": {
    "collapsed": true
   },
   "outputs": [],
   "source": [
    "\"\"\"\n",
    "DON'T MODIFY ANYTHING IN THIS CELL\n",
    "\"\"\"\n",
    "import pickle\n",
    "import problem_unittests as tests\n",
    "import helper\n",
    "\n",
    "# Load the Preprocessed Validation data\n",
    "valid_features, valid_labels = pickle.load(open('preprocess_validation.p', mode='rb'))"
   ]
  },
  {
   "cell_type": "markdown",
   "metadata": {},
   "source": [
    "## Build the network\n",
    "For the neural network, you'll build each layer into a function.  Most of the code you've seen has been outside of functions. To test your code more thoroughly, we require that you put each layer in a function.  This allows us to give you better feedback and test for simple mistakes using our unittests before you submit your project.\n",
    "\n",
    "If you're finding it hard to dedicate enough time for this course a week, we've provided a small shortcut to this part of the project. In the next couple of problems, you'll have the option to use [TensorFlow Layers](https://www.tensorflow.org/api_docs/python/tf/layers) or [TensorFlow Layers (contrib)](https://www.tensorflow.org/api_guides/python/contrib.layers) to build each layer, except \"Convolutional & Max Pooling\" layer.  TF Layers is similar to Keras's and TFLearn's abstraction to layers, so it's easy to pickup.\n",
    "\n",
    "If you would like to get the most of this course, try to solve all the problems without TF Layers.  Let's begin!\n",
    "### Input\n",
    "The neural network needs to read the image data, one-hot encoded labels, and dropout keep probability. Implement the following functions\n",
    "* Implement `neural_net_image_input`\n",
    " * Return a [TF Placeholder](https://www.tensorflow.org/api_docs/python/tf/placeholder)\n",
    " * Set the shape using `image_shape` with batch size set to `None`.\n",
    " * Name the TensorFlow placeholder \"x\" using the TensorFlow `name` parameter in the [TF Placeholder](https://www.tensorflow.org/api_docs/python/tf/placeholder).\n",
    "* Implement `neural_net_label_input`\n",
    " * Return a [TF Placeholder](https://www.tensorflow.org/api_docs/python/tf/placeholder)\n",
    " * Set the shape using `n_classes` with batch size set to `None`.\n",
    " * Name the TensorFlow placeholder \"y\" using the TensorFlow `name` parameter in the [TF Placeholder](https://www.tensorflow.org/api_docs/python/tf/placeholder).\n",
    "* Implement `neural_net_keep_prob_input`\n",
    " * Return a [TF Placeholder](https://www.tensorflow.org/api_docs/python/tf/placeholder) for dropout keep probability.\n",
    " * Name the TensorFlow placeholder \"keep_prob\" using the TensorFlow `name` parameter in the [TF Placeholder](https://www.tensorflow.org/api_docs/python/tf/placeholder).\n",
    "\n",
    "These names will be used at the end of the project to load your saved model.\n",
    "\n",
    "Note: `None` for shapes in TensorFlow allow for a dynamic size."
   ]
  },
  {
   "cell_type": "code",
   "execution_count": 2,
   "metadata": {
    "collapsed": false
   },
   "outputs": [
    {
     "name": "stdout",
     "output_type": "stream",
     "text": [
      "Image Input Tests Passed.\n",
      "Label Input Tests Passed.\n",
      "Keep Prob Tests Passed.\n"
     ]
    }
   ],
   "source": [
    "import tensorflow as tf\n",
    "\n",
    "def neural_net_image_input(image_shape):\n",
    "    \"\"\"\n",
    "    Return a Tensor for a bach of image input\n",
    "    : image_shape: Shape of the images\n",
    "    : return: Tensor for image input.\n",
    "    \"\"\"\n",
    "    # TODO: Implement Function\n",
    "    s = [None] + list(image_shape)\n",
    "    return tf.placeholder(tf.float32, shape=tuple(s), name='x')\n",
    "\n",
    "\n",
    "def neural_net_label_input(n_classes):\n",
    "    \"\"\"\n",
    "    Return a Tensor for a batch of label input\n",
    "    : n_classes: Number of classes\n",
    "    : return: Tensor for label input.\n",
    "    \"\"\"\n",
    "    # TODO: Implement Function\n",
    "    return tf.placeholder(tf.float32, shape=(None,n_classes), name='y')\n",
    "\n",
    "\n",
    "def neural_net_keep_prob_input():\n",
    "    \"\"\"\n",
    "    Return a Tensor for keep probability\n",
    "    : return: Tensor for keep probability.\n",
    "    \"\"\"\n",
    "    # TODO: Implement Function\n",
    "    return tf.placeholder(tf.float32, name='keep_prob')\n",
    "\n",
    "\n",
    "\"\"\"\n",
    "DON'T MODIFY ANYTHING IN THIS CELL THAT IS BELOW THIS LINE\n",
    "\"\"\"\n",
    "tf.reset_default_graph()\n",
    "tests.test_nn_image_inputs(neural_net_image_input)\n",
    "tests.test_nn_label_inputs(neural_net_label_input)\n",
    "tests.test_nn_keep_prob_inputs(neural_net_keep_prob_input)"
   ]
  },
  {
   "cell_type": "markdown",
   "metadata": {},
   "source": [
    "### Convolution and Max Pooling Layer\n",
    "Convolution layers have a lot of success with images. For this code cell, you should implement the function `conv2d_maxpool` to apply convolution then max pooling:\n",
    "* Create the weight and bias using `conv_ksize`, `conv_num_outputs` and the shape of `x_tensor`.\n",
    "* Apply a convolution to `x_tensor` using weight and `conv_strides`.\n",
    " * We recommend you use same padding, but you're welcome to use any padding.\n",
    "* Add bias\n",
    "* Add a nonlinear activation to the convolution.\n",
    "* Apply Max Pooling using `pool_ksize` and `pool_strides`.\n",
    " * We recommend you use same padding, but you're welcome to use any padding.\n",
    "\n",
    "Note: You **can't** use [TensorFlow Layers](https://www.tensorflow.org/api_docs/python/tf/layers) or [TensorFlow Layers (contrib)](https://www.tensorflow.org/api_guides/python/contrib.layers) for this layer.  You're free to use any TensorFlow package for all the other layers."
   ]
  },
  {
   "cell_type": "code",
   "execution_count": 3,
   "metadata": {
    "collapsed": true
   },
   "outputs": [],
   "source": [
    "from functools import reduce\n",
    "import math\n",
    "\n",
    "def reduceProd(x):\n",
    "    return reduce(lambda a,b:a*b,x)\n",
    "\n",
    "def getTensorSize(x):\n",
    "    return reduceProd(x.get_shape().as_list()[1:])\n",
    "\n",
    "def xavier_init(shape, n_inputs, n_outputs, uniform=True):\n",
    "  \"\"\"Set the parameter initialization using the method described.\n",
    "  This method is designed to keep the scale of the gradients roughly the same\n",
    "  in all layers.\n",
    "  Xavier Glorot and Yoshua Bengio (2010):\n",
    "           Understanding the difficulty of training deep feedforward neural\n",
    "           networks. International conference on artificial intelligence and\n",
    "           statistics.\n",
    "  Args:\n",
    "    n_inputs: The number of input nodes into each output.\n",
    "    n_outputs: The number of output nodes for each input.\n",
    "    uniform: If true use a uniform distribution, otherwise use a normal.\n",
    "  Returns:\n",
    "    An initializer.\n",
    "  \"\"\"\n",
    "  if uniform:\n",
    "    # 6 was used in the paper.\n",
    "    init_range = math.sqrt(6.0 / (n_inputs + n_outputs))\n",
    "    return tf.random_uniform(shape=shape, minval=-init_range, maxval=init_range)\n",
    "  else:\n",
    "    # 3 gives us approximately the same limits as above since this repicks\n",
    "    # values greater than 2 standard deviations from the mean.\n",
    "    stddev = math.sqrt(3.0 / (n_inputs + n_outputs))\n",
    "    return tf.truncated_normal(shape=shape, stddev=stddev)"
   ]
  },
  {
   "cell_type": "code",
   "execution_count": 4,
   "metadata": {
    "collapsed": false
   },
   "outputs": [
    {
     "name": "stdout",
     "output_type": "stream",
     "text": [
      "Add conv2d_maxpool: ReLU[1] dropout[0] conv kernel[2x2] stride[4x4] pool kernal[2x2] stride[2x2] output[10]\n",
      "  conv2d_maxpool input:  [None, 32, 32, 5] \tsize = 5120\n",
      "  conv2d_maxpool cov2d:  [None, 8, 8, 10] \tsize = 640\n",
      "  conv2d_maxpool  pool:  [None, 4, 4, 10] \tsize = 160\n",
      "Tests Passed\n"
     ]
    }
   ],
   "source": [
    "def conv2d_maxpool(x_tensor, conv_num_outputs, conv_ksize, conv_strides, pool_ksize, pool_strides, keep_prob=None, dropout=False, relu=True):\n",
    "    \"\"\"\n",
    "    Apply convolution then max pooling to x_tensor\n",
    "    :param x_tensor: TensorFlow Tensor\n",
    "    :param conv_num_outputs: Number of outputs for the convolutional layer\n",
    "    :param conv_strides: Stride 2-D Tuple for convolution\n",
    "    :param pool_ksize: kernal size 2-D Tuple for pool\n",
    "    :param pool_strides: Stride 2-D Tuple for pool\n",
    "    : return: A tensor that represents convolution and max pooling of x_tensor\n",
    "    \"\"\"\n",
    "    # TODO: Implement Function\n",
    "    # ---- convolution layer ----\n",
    "    print(\"Add conv2d_maxpool: ReLU[%d] dropout[%d] conv kernel[%dx%d] stride[%dx%d] pool kernal[%dx%d] stride[%dx%d] output[%d]\" % \\\n",
    "           (relu, dropout, \\\n",
    "            conv_ksize[0],conv_ksize[1],conv_strides[0],conv_strides[1],\\\n",
    "            pool_ksize[0], pool_ksize[1],pool_strides[0], pool_strides[1],conv_num_outputs))\n",
    "    conv_input_size = getTensorSize(x_tensor)\n",
    "    conv_output_size = (x_tensor.get_shape().as_list()[1] / conv_strides[0]) ** 2 * conv_num_outputs\n",
    "    print(\"  conv2d_maxpool input: \",x_tensor.get_shape().as_list(),\"\\tsize =\",conv_input_size)\n",
    "    n_channels = x_tensor.get_shape().as_list()[3]\n",
    "    \n",
    "    shape_W = [conv_ksize[0],conv_ksize[1],n_channels,conv_num_outputs]\n",
    "    shape_b = [conv_num_outputs]\n",
    "    # F_W = tf.Variable(tf.random_normal(shape_W))\n",
    "    # F_b = tf.Variable(tf.random_normal(shape_b))\n",
    "    \n",
    "    F_W = tf.Variable(xavier_init(shape_W, conv_input_size, conv_output_size))\n",
    "    F_b = tf.Variable(xavier_init(shape_b, conv_input_size, conv_output_size))\n",
    "    #F_W = tf.get_variable(shape=shape_W, initializer=tf.contrib.layers.xavier_initializer())\n",
    "    #F_b = tf.get_variable(shape=shape_b, initializer=tf.contrib.layers.xavier_initializer())\n",
    "    \n",
    "    x_tensor = tf.nn.conv2d(x_tensor, F_W, [1,conv_strides[0],conv_strides[1],1], 'SAME') + F_b\n",
    "    if relu:\n",
    "        x_tensor = tf.nn.relu(x_tensor)\n",
    "    print(\"  conv2d_maxpool cov2d: \",x_tensor.get_shape().as_list(),\"\\tsize =\",getTensorSize(x_tensor))\n",
    "    if dropout:\n",
    "        print(\"  conv2d_maxpool add dropout\")\n",
    "        x_tensor = tf.nn.dropout(x_tensor, keep_prob)\n",
    "    \n",
    "    # ---- max pooling layer ----\n",
    "    x_tensor = tf.nn.max_pool(x_tensor, ksize=[1, pool_ksize[0], pool_ksize[1], 1],\\\n",
    "                              strides=[1, pool_strides[0], pool_strides[1], 1], padding='SAME')\n",
    "    print(\"  conv2d_maxpool  pool: \",x_tensor.get_shape().as_list(),\"\\tsize =\",getTensorSize(x_tensor))\n",
    "    return x_tensor \n",
    "\n",
    "\n",
    "\"\"\"\n",
    "DON'T MODIFY ANYTHING IN THIS CELL THAT IS BELOW THIS LINE\n",
    "\"\"\"\n",
    "tests.test_con_pool(conv2d_maxpool)"
   ]
  },
  {
   "cell_type": "code",
   "execution_count": null,
   "metadata": {
    "collapsed": false
   },
   "outputs": [],
   "source": [
    "#### conv_net(x, keep_prob, conv_plan=3, conv_depth=3, full_plan=3)\n",
    "conv_net(x, keep_prob, conv_plan=3, conv_depth=2, full_plan=4, dropout_fc=True, dropout_conv=True, relu=True)"
   ]
  },
  {
   "cell_type": "markdown",
   "metadata": {},
   "source": [
    "### Flatten Layer\n",
    "Implement the `flatten` function to change the dimension of `x_tensor` from a 4-D tensor to a 2-D tensor.  The output should be the shape (*Batch Size*, *Flattened Image Size*). You can use [TensorFlow Layers](https://www.tensorflow.org/api_docs/python/tf/layers) or [TensorFlow Layers (contrib)](https://www.tensorflow.org/api_guides/python/contrib.layers) for this layer."
   ]
  },
  {
   "cell_type": "code",
   "execution_count": 5,
   "metadata": {
    "collapsed": false
   },
   "outputs": [
    {
     "name": "stdout",
     "output_type": "stream",
     "text": [
      "Add flatten: size[1800]\n",
      "Tests Passed\n"
     ]
    }
   ],
   "source": [
    "def flatten(x_tensor):\n",
    "    \"\"\"\n",
    "    Flatten x_tensor to (Batch Size, Flattened Image Size)\n",
    "    : x_tensor: A tensor of size (Batch Size, ...), where ... are the image dimensions.\n",
    "    : return: A tensor of size (Batch Size, Flattened Image Size).\n",
    "    \"\"\"\n",
    "    # TODO: Implement Function\n",
    "    flat_size = getTensorSize(x_tensor)\n",
    "    print(\"Add flatten: size[%d]\" % (flat_size))\n",
    "    return tf.reshape(x_tensor, [-1, flat_size])\n",
    "\n",
    "\n",
    "\"\"\"\n",
    "DON'T MODIFY ANYTHING IN THIS CELL THAT IS BELOW THIS LINE\n",
    "\"\"\"\n",
    "tests.test_flatten(flatten)"
   ]
  },
  {
   "cell_type": "markdown",
   "metadata": {},
   "source": [
    "### Fully-Connected Layer\n",
    "Implement the `fully_conn` function to apply a fully connected layer to `x_tensor` with the shape (*Batch Size*, *num_outputs*). You can use [TensorFlow Layers](https://www.tensorflow.org/api_docs/python/tf/layers) or [TensorFlow Layers (contrib)](https://www.tensorflow.org/api_guides/python/contrib.layers) for this layer."
   ]
  },
  {
   "cell_type": "code",
   "execution_count": 6,
   "metadata": {
    "collapsed": false
   },
   "outputs": [
    {
     "name": "stdout",
     "output_type": "stream",
     "text": [
      "Add fully_conn: input[128] output[40]\n",
      "Tests Passed\n"
     ]
    }
   ],
   "source": [
    "def fully_conn(x_tensor, num_outputs):\n",
    "    \"\"\"\n",
    "    Apply a fully connected layer to x_tensor using weight and bias\n",
    "    : x_tensor: A 2-D tensor where the first dimension is batch size.\n",
    "    : num_outputs: The number of output that the new tensor should be.\n",
    "    : return: A 2-D tensor where the second dimension is num_outputs.\n",
    "    \"\"\"\n",
    "    # TODO: Implement Function\n",
    "    input_size = x_tensor.get_shape().as_list()[1]\n",
    "    print(\"Add fully_conn: input[%d] output[%d]\" % (input_size,num_outputs))\n",
    "    \n",
    "    # F_W = tf.Variable(tf.random_normal([input_size, num_outputs]))\n",
    "    # F_b = tf.Variable(tf.random_normal([num_outputs]))\n",
    "    \n",
    "    shape_W = [input_size, num_outputs]\n",
    "    shape_b = [num_outputs]\n",
    "    F_W = tf.Variable(xavier_init(shape_W, input_size, num_outputs))\n",
    "    F_b = tf.Variable(xavier_init(shape_b, input_size, num_outputs))\n",
    "    \n",
    "    x_tensor = tf.add(tf.matmul(x_tensor, F_W), F_b)\n",
    "    x_tensor = tf.nn.relu(x_tensor)\n",
    "    return x_tensor\n",
    "\n",
    "\n",
    "\"\"\"\n",
    "DON'T MODIFY ANYTHING IN THIS CELL THAT IS BELOW THIS LINE\n",
    "\"\"\"\n",
    "tests.test_fully_conn(fully_conn)"
   ]
  },
  {
   "cell_type": "markdown",
   "metadata": {},
   "source": [
    "### Output Layer\n",
    "Implement the `output` function to apply a fully connected layer to `x_tensor` with the shape (*Batch Size*, *num_outputs*). You can use [TensorFlow Layers](https://www.tensorflow.org/api_docs/python/tf/layers) or [TensorFlow Layers (contrib)](https://www.tensorflow.org/api_guides/python/contrib.layers) for this layer.\n",
    "\n",
    "Note: Activation, softmax, or cross entropy shouldn't be applied to this."
   ]
  },
  {
   "cell_type": "code",
   "execution_count": 7,
   "metadata": {
    "collapsed": false
   },
   "outputs": [
    {
     "name": "stdout",
     "output_type": "stream",
     "text": [
      "Add output: input[128] output[40]\n",
      "Tests Passed\n"
     ]
    }
   ],
   "source": [
    "def output(x_tensor, num_outputs):\n",
    "    \"\"\"\n",
    "    Apply a output layer to x_tensor using weight and bias\n",
    "    : x_tensor: A 2-D tensor where the first dimension is batch size.\n",
    "    : num_outputs: The number of output that the new tensor should be.\n",
    "    : return: A 2-D tensor where the second dimension is num_outputs.\n",
    "    \"\"\"\n",
    "    # TODO: Implement Function\n",
    "    input_size = x_tensor.get_shape().as_list()[1]\n",
    "    print(\"Add output: input[%d] output[%d]\" % (input_size,num_outputs))\n",
    "    F_W = tf.Variable(tf.random_normal([input_size, num_outputs]))\n",
    "    F_b = tf.Variable(tf.random_normal([num_outputs]))\n",
    "    x_tensor = tf.add(tf.matmul(x_tensor, F_W), F_b)\n",
    "    return x_tensor\n",
    "\n",
    "\n",
    "\"\"\"\n",
    "DON'T MODIFY ANYTHING IN THIS CELL THAT IS BELOW THIS LINE\n",
    "\"\"\"\n",
    "tests.test_output(output)"
   ]
  },
  {
   "cell_type": "markdown",
   "metadata": {},
   "source": [
    "### Create Convolutional Model\n",
    "Implement the function `conv_net` to create a convolutional neural network model. The function takes in a batch of images, `x`, and outputs logits.  Use the layers you created above to create this model:\n",
    "\n",
    "* Apply 1, 2, or 3 Convolution and Max Pool layers\n",
    "* Apply a Flatten Layer\n",
    "* Apply 1, 2, or 3 Fully Connected Layers\n",
    "* Apply an Output Layer\n",
    "* Return the output\n",
    "* Apply [TensorFlow's Dropout](https://www.tensorflow.org/api_docs/python/tf/nn/dropout) to one or more layers in the model using `keep_prob`. "
   ]
  },
  {
   "cell_type": "code",
   "execution_count": 31,
   "metadata": {
    "collapsed": false
   },
   "outputs": [],
   "source": [
    "import pandas as pd\n",
    "import feather\n",
    "import itertools\n",
    "def expandgrid(*itrs):\n",
    "   product = list(itertools.product(*itrs))\n",
    "   return pd.DataFrame({'Var{}'.format(i+1):[x[i] for x in product] for i in range(len(itrs))})\n",
    "\n",
    "# Define conv-max-pool layer parameters\n",
    "convParams1 = pd.DataFrame({\n",
    "    'layer':range(4),\n",
    "    'conv_kernal':[5]*4,\n",
    "    'conv_stride':[1]*4,\n",
    "    'pool_kernal':[2]*4,\n",
    "    'pool_stride':[2]*4,\n",
    "    'num_output':[16*(2**number) for number in range(0,4)]\n",
    "})\n",
    "\n",
    "convParams2 = pd.DataFrame({\n",
    "    'layer':range(4),\n",
    "    'conv_kernal':[5]*4,\n",
    "    'conv_stride':[1]*4,\n",
    "    'pool_kernal':[2]*4,\n",
    "    'pool_stride':[2]*4,\n",
    "    'num_output':[32*(2**number) for number in range(0,4)]\n",
    "})\n",
    "\n",
    "convParams3 = pd.DataFrame({\n",
    "    'layer':range(4),\n",
    "    'conv_kernal':[4]*4,\n",
    "    'conv_stride':[2]*4,\n",
    "    'pool_kernal':[2]*4,\n",
    "    'pool_stride':[2]*4,\n",
    "    'num_output':[32*(4**number) for number in range(0,4)]\n",
    "})\n",
    "\n",
    "convParamsList = [convParams1,convParams2,convParams3]\n",
    "\n",
    "fullParams = [[1024],[512],[512, 128], [1024, 128],[1024, 256, 64]]\n"
   ]
  },
  {
   "cell_type": "code",
   "execution_count": 32,
   "metadata": {
    "collapsed": false
   },
   "outputs": [
    {
     "name": "stdout",
     "output_type": "stream",
     "text": [
      "Build conv_net conv_plan[3] conv_depth[3] full_plan[5]\n",
      "Add conv2d_maxpool: ReLU[1] dropout[1] conv kernel[4x4] stride[2x2] pool kernal[2x2] stride[2x2] output[32]\n",
      "  conv2d_maxpool input:  [None, 32, 32, 3] \tsize = 3072\n",
      "  conv2d_maxpool cov2d:  [None, 16, 16, 32] \tsize = 8192\n",
      "  conv2d_maxpool add dropout\n",
      "  conv2d_maxpool  pool:  [None, 8, 8, 32] \tsize = 2048\n",
      "Add conv2d_maxpool: ReLU[1] dropout[1] conv kernel[4x4] stride[2x2] pool kernal[2x2] stride[2x2] output[128]\n",
      "  conv2d_maxpool input:  [None, 8, 8, 32] \tsize = 2048\n",
      "  conv2d_maxpool cov2d:  [None, 4, 4, 128] \tsize = 2048\n",
      "  conv2d_maxpool add dropout\n",
      "  conv2d_maxpool  pool:  [None, 2, 2, 128] \tsize = 512\n",
      "Add conv2d_maxpool: ReLU[1] dropout[1] conv kernel[4x4] stride[2x2] pool kernal[2x2] stride[2x2] output[512]\n",
      "  conv2d_maxpool input:  [None, 2, 2, 128] \tsize = 512\n",
      "  conv2d_maxpool cov2d:  [None, 1, 1, 512] \tsize = 512\n",
      "  conv2d_maxpool add dropout\n",
      "  conv2d_maxpool  pool:  [None, 1, 1, 512] \tsize = 512\n",
      "Add flatten: size[512]\n",
      "Add fully_conn: input[512] output[1024]\n",
      "Add dropout layer\n",
      "Add fully_conn: input[1024] output[256]\n",
      "Add fully_conn: input[256] output[64]\n",
      "Add output: input[64] output[10]\n",
      "\n"
     ]
    },
    {
     "data": {
      "text/plain": [
       "<tf.Tensor 'Add_24:0' shape=(?, 10) dtype=float32>"
      ]
     },
     "execution_count": 32,
     "metadata": {},
     "output_type": "execute_result"
    }
   ],
   "source": [
    "# conv_net(x, keep_prob, conv_plan=3, conv_depth=2, full_plan=4, dropout=True, relu=True)\n",
    "#conv_net(x, keep_prob, conv_plan=2, conv_depth=4, full_plan=4, dropout_fc=True, dropout_conv=True, relu=True)\n",
    "conv_net(x, keep_prob, conv_plan=3, conv_depth=3, full_plan=5, dropout_fc=True, dropout_conv=True, relu=True)"
   ]
  },
  {
   "cell_type": "code",
   "execution_count": 34,
   "metadata": {
    "collapsed": false
   },
   "outputs": [
    {
     "name": "stdout",
     "output_type": "stream",
     "text": [
      "Build conv_net conv_plan[3] conv_depth[3] full_plan[5]\n",
      "Add conv2d_maxpool: ReLU[1] dropout[1] conv kernel[4x4] stride[2x2] pool kernal[2x2] stride[2x2] output[32]\n",
      "  conv2d_maxpool input:  [None, 32, 32, 3] \tsize = 3072\n",
      "  conv2d_maxpool cov2d:  [None, 16, 16, 32] \tsize = 8192\n",
      "  conv2d_maxpool add dropout\n",
      "  conv2d_maxpool  pool:  [None, 8, 8, 32] \tsize = 2048\n",
      "Add conv2d_maxpool: ReLU[1] dropout[1] conv kernel[4x4] stride[2x2] pool kernal[2x2] stride[2x2] output[128]\n",
      "  conv2d_maxpool input:  [None, 8, 8, 32] \tsize = 2048\n",
      "  conv2d_maxpool cov2d:  [None, 4, 4, 128] \tsize = 2048\n",
      "  conv2d_maxpool add dropout\n",
      "  conv2d_maxpool  pool:  [None, 2, 2, 128] \tsize = 512\n",
      "Add conv2d_maxpool: ReLU[1] dropout[1] conv kernel[4x4] stride[2x2] pool kernal[2x2] stride[2x2] output[512]\n",
      "  conv2d_maxpool input:  [None, 2, 2, 128] \tsize = 512\n",
      "  conv2d_maxpool cov2d:  [None, 1, 1, 512] \tsize = 512\n",
      "  conv2d_maxpool add dropout\n",
      "  conv2d_maxpool  pool:  [None, 1, 1, 512] \tsize = 512\n",
      "Add flatten: size[512]\n",
      "Add fully_conn: input[512] output[1024]\n",
      "Add dropout layer\n",
      "Add fully_conn: input[1024] output[256]\n",
      "Add fully_conn: input[256] output[64]\n",
      "Add output: input[64] output[10]\n",
      "\n",
      "Build conv_net conv_plan[1] conv_depth[1] full_plan[1]\n",
      "Add conv2d_maxpool: ReLU[1] dropout[0] conv kernel[5x5] stride[1x1] pool kernal[2x2] stride[2x2] output[16]\n",
      "  conv2d_maxpool input:  [None, 32, 32, 3] \tsize = 3072\n",
      "  conv2d_maxpool cov2d:  [None, 32, 32, 16] \tsize = 16384\n",
      "  conv2d_maxpool  pool:  [None, 16, 16, 16] \tsize = 4096\n",
      "Add flatten: size[4096]\n",
      "Add fully_conn: input[4096] output[1024]\n",
      "Add dropout layer\n",
      "Add output: input[1024] output[10]\n",
      "\n",
      "Neural Network Built!\n"
     ]
    }
   ],
   "source": [
    "def conv_net(x, keep_prob, conv_plan=1, conv_depth=1, full_plan=1, dropout_fc=True, dropout_conv=False, relu=True):\n",
    "    \"\"\"\n",
    "    Create a convolutional neural network model\n",
    "    : x: Placeholder tensor that holds image data.\n",
    "    : keep_prob: Placeholder tensor that hold dropout keep probability.\n",
    "    : return: Tensor that represents logits\n",
    "    \"\"\"\n",
    "    # TODO: Apply 1, 2, or 3 Convolution and Max Pool layers\n",
    "    #    Play around with different number of outputs, kernel size and stride\n",
    "    print(\"Build conv_net conv_plan[%d] conv_depth[%d] full_plan[%d]\" % (conv_plan,conv_depth,full_plan))\n",
    "    # Function Definition from Above:\n",
    "    #    conv2d_maxpool(x_tensor, conv_num_outputs, conv_ksize, conv_strides, pool_ksize, pool_strides)\n",
    "    convParams = convParamsList[conv_plan-1]\n",
    "    for i in range(conv_depth):\n",
    "        # def conv2d_maxpool(x_tensor, conv_num_outputs, conv_ksize, conv_strides, pool_ksize, pool_strides, keep_prob=None, dropout=False, relu=True):\n",
    "        conv_num_outputs = convParams.at[i,'num_output']\n",
    "        conv_ksize = [convParams.at[i,'conv_kernal'],convParams.at[i,'conv_kernal']]\n",
    "        conv_strides = [convParams.at[i,'conv_stride'],convParams.at[i,'conv_stride']]\n",
    "        pool_ksize = [convParams.at[i,'pool_kernal'],convParams.at[i,'pool_kernal']]\n",
    "        pool_strides = [convParams.at[i,'pool_stride'],convParams.at[i,'pool_stride']]\n",
    "        x = conv2d_maxpool(x, conv_num_outputs, conv_ksize, conv_strides, pool_ksize, pool_strides, keep_prob, dropout_conv, relu)\n",
    "\n",
    "    # TODO: Apply a Flatten Layer\n",
    "    # Function Definition from Above:\n",
    "    #   flatten(x_tensor)\n",
    "    x = flatten(x)\n",
    "\n",
    "    # TODO: Apply 1, 2, or 3 Fully Connected Layers\n",
    "    #    Play around with different number of outputs\n",
    "    # Function Definition from Above:\n",
    "    #   fully_conn(x_tensor, num_outputs)\n",
    "    full_params = fullParams[full_plan-1]\n",
    "    if dropout_fc:\n",
    "        x = fully_conn(x, full_params[0])\n",
    "        x = tf.nn.dropout(x, keep_prob)\n",
    "        print(\"Add dropout layer\")\n",
    "        for i in range(1,len(full_params)):\n",
    "            x = fully_conn(x, full_params[i])\n",
    "    else:\n",
    "        for i in range(len(full_params)):\n",
    "             x = fully_conn(x, full_params[i])\n",
    "    \n",
    "    # TODO: Apply an Output Layer\n",
    "    #    Set this to the number of classes\n",
    "    # Function Definition from Above:\n",
    "    #   output(x_tensor, num_outputs)\n",
    "    n_classes = 10\n",
    "    x = output(x, n_classes)\n",
    "    \n",
    "    # TODO: return output\n",
    "    print(\"\")\n",
    "    return x\n",
    "\n",
    "\n",
    "\"\"\"\n",
    "DON'T MODIFY ANYTHING IN THIS CELL THAT IS BELOW THIS LINE\n",
    "\"\"\"\n",
    "\n",
    "##############################\n",
    "## Build the Neural Network ##\n",
    "##############################\n",
    "\n",
    "# Remove previous weights, bias, inputs, etc..\n",
    "tf.reset_default_graph()\n",
    "\n",
    "# Inputs\n",
    "x = neural_net_image_input((32, 32, 3))\n",
    "y = neural_net_label_input(10)\n",
    "keep_prob = neural_net_keep_prob_input()\n",
    "\n",
    "# Model\n",
    "# logits = conv_net(x, keep_prob, conv_plan=2, conv_depth=4, full_plan=4, dropout_fc=True, dropout_conv=False, relu=True)\n",
    "# logits = conv_net(x, keep_prob, conv_plan=3, conv_depth=2, full_plan=4, dropout_fc=True, dropout_conv=True, relu=True)\n",
    "# logits = conv_net(x, keep_prob, conv_plan=2, conv_depth=3, full_plan=4, dropout_fc=True, dropout_conv=False, relu=False)\n",
    "logits = conv_net(x, keep_prob, conv_plan=3, conv_depth=3, full_plan=5, dropout_fc=True, dropout_conv=True, relu=True)\n",
    "\n",
    "# Name logits Tensor, so that is can be loaded from disk after training\n",
    "logits = tf.identity(logits, name='logits')\n",
    "\n",
    "# Loss and Optimizer\n",
    "cost = tf.reduce_mean(tf.nn.softmax_cross_entropy_with_logits(logits=logits, labels=y))\n",
    "optimizer = tf.train.AdamOptimizer().minimize(cost)\n",
    "\n",
    "# Accuracy\n",
    "correct_pred = tf.equal(tf.argmax(logits, 1), tf.argmax(y, 1))\n",
    "accuracy = tf.reduce_mean(tf.cast(correct_pred, tf.float32), name='accuracy')\n",
    "\n",
    "tests.test_conv_net(conv_net)"
   ]
  },
  {
   "cell_type": "markdown",
   "metadata": {},
   "source": [
    "## Train the Neural Network\n",
    "### Single Optimization\n",
    "Implement the function `train_neural_network` to do a single optimization.  The optimization should use `optimizer` to optimize in `session` with a `feed_dict` of the following:\n",
    "* `x` for image input\n",
    "* `y` for labels\n",
    "* `keep_prob` for keep probability for dropout\n",
    "\n",
    "This function will be called for each batch, so `tf.global_variables_initializer()` has already been called.\n",
    "\n",
    "Note: Nothing needs to be returned. This function is only optimizing the neural network."
   ]
  },
  {
   "cell_type": "code",
   "execution_count": 14,
   "metadata": {
    "collapsed": false
   },
   "outputs": [
    {
     "name": "stdout",
     "output_type": "stream",
     "text": [
      "Tests Passed\n"
     ]
    }
   ],
   "source": [
    "def train_neural_network(session, optimizer, keep_probability, feature_batch, label_batch):\n",
    "    \"\"\"\n",
    "    Optimize the session on a batch of images and labels\n",
    "    : session: Current TensorFlow session\n",
    "    : optimizer: TensorFlow optimizer function\n",
    "    : keep_probability: keep probability\n",
    "    : feature_batch: Batch of Numpy image data\n",
    "    : label_batch: Batch of Numpy label data\n",
    "    \"\"\"\n",
    "    # TODO: Implement Function\n",
    "    session.run(optimizer, feed_dict={'x:0': feature_batch, 'y:0': label_batch, 'keep_prob:0': keep_probability})\n",
    "\n",
    "\n",
    "\"\"\"\n",
    "DON'T MODIFY ANYTHING IN THIS CELL THAT IS BELOW THIS LINE\n",
    "\"\"\"\n",
    "tests.test_train_nn(train_neural_network)"
   ]
  },
  {
   "cell_type": "markdown",
   "metadata": {},
   "source": [
    "### Show Stats\n",
    "Implement the function `print_stats` to print loss and validation accuracy.  Use the global variables `valid_features` and `valid_labels` to calculate validation accuracy.  Use a keep probability of `1.0` to calculate the loss and validation accuracy."
   ]
  },
  {
   "cell_type": "code",
   "execution_count": 15,
   "metadata": {
    "collapsed": false
   },
   "outputs": [],
   "source": [
    "def print_stats(session, feature_batch, label_batch, cost, accuracy):\n",
    "    \"\"\"\n",
    "    Print information about loss and validation accuracy\n",
    "    : session: Current TensorFlow session\n",
    "    : feature_batch: Batch of Numpy image data\n",
    "    : label_batch: Batch of Numpy label data\n",
    "    : cost: TensorFlow cost function\n",
    "    : accuracy: TensorFlow accuracy function\n",
    "    \"\"\"\n",
    "    # TODO: Implement Function\n",
    "    # Calculate batch loss and accuracy\n",
    "    loss = session.run(cost, feed_dict={x: feature_batch, y: label_batch, keep_prob: 1.})\n",
    "    valid_acc = session.run(accuracy, feed_dict={x: valid_features, y: valid_labels, keep_prob: 1.})\n",
    "\n",
    "    print('Loss: {:>10.4f} Validation Accuracy: {:.6f}'.format(loss,valid_acc))"
   ]
  },
  {
   "cell_type": "code",
   "execution_count": 16,
   "metadata": {
    "collapsed": false
   },
   "outputs": [],
   "source": [
    "def save_stats(session, feature_batch, label_batch, cost, accuracy, batch, epoch):\n",
    "    \"\"\"\n",
    "    Print information about loss and validation accuracy\n",
    "    : session: Current TensorFlow session\n",
    "    : feature_batch: Batch of Numpy image data\n",
    "    : label_batch: Batch of Numpy label data\n",
    "    : cost: TensorFlow cost function\n",
    "    : accuracy: TensorFlow accuracy function\n",
    "    \"\"\"\n",
    "    # TODO: Implement Function\n",
    "    # Calculate batch loss and accuracy\n",
    "    loss = session.run(cost, feed_dict={'x:0': feature_batch, 'y:0': label_batch, 'keep_prob:0': 1.})\n",
    "    valid_acc = session.run(accuracy, feed_dict={'x:0': valid_features, 'y:0': valid_labels, 'keep_prob:0': 1.})\n",
    "\n",
    "    print('Loss: {:>10.4f} Validation Accuracy: {:.6f}'.format(loss,valid_acc))\n",
    "    return pd.DataFrame({'Batch':[batch],'Epoch':[epoch],'Loss':[loss],'ValidAcc':[valid_acc]})"
   ]
  },
  {
   "cell_type": "markdown",
   "metadata": {},
   "source": [
    "### Hyperparameters\n",
    "Tune the following parameters:\n",
    "* Set `epochs` to the number of iterations until the network stops learning or start overfitting\n",
    "* Set `batch_size` to the highest number that your machine has memory for.  Most people set them to common sizes of memory:\n",
    " * 64\n",
    " * 128\n",
    " * 256\n",
    " * ...\n",
    "* Set `keep_probability` to the probability of keeping a node using dropout"
   ]
  },
  {
   "cell_type": "code",
   "execution_count": 42,
   "metadata": {
    "collapsed": true
   },
   "outputs": [],
   "source": [
    "# TODO: Tune Parameters\n",
    "epochs = 80\n",
    "batch_size = 256\n",
    "keep_probability = 0.75"
   ]
  },
  {
   "cell_type": "markdown",
   "metadata": {},
   "source": [
    "### Train on a Single CIFAR-10 Batch\n",
    "Instead of training the neural network on all the CIFAR-10 batches of data, let's use a single batch. This should save time while you iterate on the model to get a better accuracy.  Once the final validation accuracy is 50% or greater, run the model on all the data in the next section."
   ]
  },
  {
   "cell_type": "code",
   "execution_count": 41,
   "metadata": {
    "collapsed": false,
    "scrolled": false
   },
   "outputs": [
    {
     "name": "stdout",
     "output_type": "stream",
     "text": [
      "epochs = 100\n",
      "batch_size = 256\n",
      "keep_probability = 0.75\n",
      "Checking the Training on a Single Batch...\n",
      "Epoch  1, CIFAR-10 Batch 1:  Loss:     2.2722 Validation Accuracy: 0.184400\n",
      "Epoch  2, CIFAR-10 Batch 1:  Loss:     2.0713 Validation Accuracy: 0.287000\n",
      "Epoch  3, CIFAR-10 Batch 1:  Loss:     1.9290 Validation Accuracy: 0.302800\n",
      "Epoch  4, CIFAR-10 Batch 1:  Loss:     1.8281 Validation Accuracy: 0.375800\n",
      "Epoch  5, CIFAR-10 Batch 1:  Loss:     1.6513 Validation Accuracy: 0.400200\n",
      "Epoch  6, CIFAR-10 Batch 1:  Loss:     1.5778 Validation Accuracy: 0.416600\n",
      "Epoch  7, CIFAR-10 Batch 1:  Loss:     1.5401 Validation Accuracy: 0.403800\n",
      "Epoch  8, CIFAR-10 Batch 1:  Loss:     1.3957 Validation Accuracy: 0.440000\n",
      "Epoch  9, CIFAR-10 Batch 1:  Loss:     1.2332 Validation Accuracy: 0.458000\n",
      "Epoch 10, CIFAR-10 Batch 1:  Loss:     1.1907 Validation Accuracy: 0.474400\n",
      "Epoch 11, CIFAR-10 Batch 1:  Loss:     1.0676 Validation Accuracy: 0.482200\n",
      "Epoch 12, CIFAR-10 Batch 1:  Loss:     0.9841 Validation Accuracy: 0.479600\n",
      "Epoch 13, CIFAR-10 Batch 1:  Loss:     1.0314 Validation Accuracy: 0.478800\n",
      "Epoch 14, CIFAR-10 Batch 1:  Loss:     0.8289 Validation Accuracy: 0.498200\n",
      "Epoch 15, CIFAR-10 Batch 1:  Loss:     0.7048 Validation Accuracy: 0.517200\n",
      "Epoch 16, CIFAR-10 Batch 1:  Loss:     0.6077 Validation Accuracy: 0.525400\n",
      "Epoch 17, CIFAR-10 Batch 1:  Loss:     0.5874 Validation Accuracy: 0.528600\n",
      "Epoch 18, CIFAR-10 Batch 1:  Loss:     0.5560 Validation Accuracy: 0.519400\n",
      "Epoch 19, CIFAR-10 Batch 1:  Loss:     0.4779 Validation Accuracy: 0.537400\n",
      "Epoch 20, CIFAR-10 Batch 1:  Loss:     0.4690 Validation Accuracy: 0.526400\n",
      "Epoch 21, CIFAR-10 Batch 1:  Loss:     0.4845 Validation Accuracy: 0.520200\n",
      "Epoch 22, CIFAR-10 Batch 1:  Loss:     0.5083 Validation Accuracy: 0.515000\n",
      "Epoch 23, CIFAR-10 Batch 1:  Loss:     0.4113 Validation Accuracy: 0.513600\n",
      "Epoch 24, CIFAR-10 Batch 1:  Loss:     0.3553 Validation Accuracy: 0.520800\n",
      "Epoch 25, CIFAR-10 Batch 1:  Loss:     0.2812 Validation Accuracy: 0.520800\n",
      "Epoch 26, CIFAR-10 Batch 1:  Loss:     0.2700 Validation Accuracy: 0.536000\n",
      "Epoch 27, CIFAR-10 Batch 1:  Loss:     0.2452 Validation Accuracy: 0.536400\n",
      "Epoch 28, CIFAR-10 Batch 1:  Loss:     0.1975 Validation Accuracy: 0.529600\n",
      "Epoch 29, CIFAR-10 Batch 1:  Loss:     0.1896 Validation Accuracy: 0.519600\n",
      "Epoch 30, CIFAR-10 Batch 1:  Loss:     0.2041 Validation Accuracy: 0.547800\n",
      "Epoch 31, CIFAR-10 Batch 1:  Loss:     0.1412 Validation Accuracy: 0.542800\n",
      "Epoch 32, CIFAR-10 Batch 1:  Loss:     0.2026 Validation Accuracy: 0.515800\n",
      "Epoch 33, CIFAR-10 Batch 1:  Loss:     0.1638 Validation Accuracy: 0.527800\n",
      "Epoch 34, CIFAR-10 Batch 1:  Loss:     0.1890 Validation Accuracy: 0.515600\n",
      "Epoch 35, CIFAR-10 Batch 1:  Loss:     0.1395 Validation Accuracy: 0.539000\n",
      "Epoch 36, CIFAR-10 Batch 1:  Loss:     0.1006 Validation Accuracy: 0.529200\n",
      "Epoch 37, CIFAR-10 Batch 1:  Loss:     0.1081 Validation Accuracy: 0.516800\n",
      "Epoch 38, CIFAR-10 Batch 1:  Loss:     0.1043 Validation Accuracy: 0.513000\n",
      "Epoch 39, CIFAR-10 Batch 1:  Loss:     0.0981 Validation Accuracy: 0.503400\n",
      "Epoch 40, CIFAR-10 Batch 1:  Loss:     0.1171 Validation Accuracy: 0.530600\n",
      "Epoch 41, CIFAR-10 Batch 1:  Loss:     0.0870 Validation Accuracy: 0.542200\n",
      "Epoch 42, CIFAR-10 Batch 1:  Loss:     0.0694 Validation Accuracy: 0.534600\n",
      "Epoch 43, CIFAR-10 Batch 1:  Loss:     0.0436 Validation Accuracy: 0.540200\n",
      "Epoch 44, CIFAR-10 Batch 1:  Loss:     0.0707 Validation Accuracy: 0.543400\n",
      "Epoch 45, CIFAR-10 Batch 1:  Loss:     0.0855 Validation Accuracy: 0.527400\n",
      "Epoch 46, CIFAR-10 Batch 1:  Loss:     0.0524 Validation Accuracy: 0.541000\n",
      "Epoch 47, CIFAR-10 Batch 1:  Loss:     0.0908 Validation Accuracy: 0.533600\n",
      "Epoch 48, CIFAR-10 Batch 1:  Loss:     0.0411 Validation Accuracy: 0.545200\n",
      "Epoch 49, CIFAR-10 Batch 1:  Loss:     0.0569 Validation Accuracy: 0.530600\n",
      "Epoch 50, CIFAR-10 Batch 1:  Loss:     0.0417 Validation Accuracy: 0.545200\n",
      "Epoch 51, CIFAR-10 Batch 1:  Loss:     0.0406 Validation Accuracy: 0.523000\n",
      "Epoch 52, CIFAR-10 Batch 1:  Loss:     0.0310 Validation Accuracy: 0.549200\n",
      "Epoch 53, CIFAR-10 Batch 1:  Loss:     0.0335 Validation Accuracy: 0.548400\n",
      "Epoch 54, CIFAR-10 Batch 1:  Loss:     0.0746 Validation Accuracy: 0.535800\n",
      "Epoch 55, CIFAR-10 Batch 1:  Loss:     0.0450 Validation Accuracy: 0.529000\n",
      "Epoch 56, CIFAR-10 Batch 1:  Loss:     0.0489 Validation Accuracy: 0.509800\n",
      "Epoch 57, CIFAR-10 Batch 1:  Loss:     0.0550 Validation Accuracy: 0.520600\n",
      "Epoch 58, CIFAR-10 Batch 1:  Loss:     0.0460 Validation Accuracy: 0.527400\n",
      "Epoch 59, CIFAR-10 Batch 1:  Loss:     0.0784 Validation Accuracy: 0.514200\n",
      "Epoch 60, CIFAR-10 Batch 1:  Loss:     0.0567 Validation Accuracy: 0.524000\n",
      "Epoch 61, CIFAR-10 Batch 1:  Loss:     0.0537 Validation Accuracy: 0.537200\n",
      "Epoch 62, CIFAR-10 Batch 1:  Loss:     0.0298 Validation Accuracy: 0.529600\n",
      "Epoch 63, CIFAR-10 Batch 1:  Loss:     0.0453 Validation Accuracy: 0.525400\n",
      "Epoch 64, CIFAR-10 Batch 1:  Loss:     0.0532 Validation Accuracy: 0.508400\n",
      "Epoch 65, CIFAR-10 Batch 1:  Loss:     0.0489 Validation Accuracy: 0.515800\n",
      "Epoch 66, CIFAR-10 Batch 1:  Loss:     0.0580 Validation Accuracy: 0.527000\n",
      "Epoch 67, CIFAR-10 Batch 1:  Loss:     0.0143 Validation Accuracy: 0.534000\n",
      "Epoch 68, CIFAR-10 Batch 1:  Loss:     0.0161 Validation Accuracy: 0.551000\n",
      "Epoch 69, CIFAR-10 Batch 1:  Loss:     0.0230 Validation Accuracy: 0.521800\n",
      "Epoch 70, CIFAR-10 Batch 1:  Loss:     0.0184 Validation Accuracy: 0.521000\n",
      "Epoch 71, CIFAR-10 Batch 1:  Loss:     0.0249 Validation Accuracy: 0.512600\n",
      "Epoch 72, CIFAR-10 Batch 1:  Loss:     0.0091 Validation Accuracy: 0.535200\n",
      "Epoch 73, CIFAR-10 Batch 1:  Loss:     0.0076 Validation Accuracy: 0.525200\n",
      "Epoch 74, CIFAR-10 Batch 1:  Loss:     0.0200 Validation Accuracy: 0.528400\n",
      "Epoch 75, CIFAR-10 Batch 1:  Loss:     0.0209 Validation Accuracy: 0.531800\n",
      "Epoch 76, CIFAR-10 Batch 1:  Loss:     0.0148 Validation Accuracy: 0.531000\n",
      "Epoch 77, CIFAR-10 Batch 1:  Loss:     0.0100 Validation Accuracy: 0.541200\n",
      "Epoch 78, CIFAR-10 Batch 1:  Loss:     0.0150 Validation Accuracy: 0.538800\n",
      "Epoch 79, CIFAR-10 Batch 1:  Loss:     0.0092 Validation Accuracy: 0.549800\n",
      "Epoch 80, CIFAR-10 Batch 1:  Loss:     0.0201 Validation Accuracy: 0.528400\n",
      "Epoch 81, CIFAR-10 Batch 1:  Loss:     0.0110 Validation Accuracy: 0.550800\n",
      "Epoch 82, CIFAR-10 Batch 1:  Loss:     0.0085 Validation Accuracy: 0.533000\n",
      "Epoch 83, CIFAR-10 Batch 1:  Loss:     0.0058 Validation Accuracy: 0.559000\n",
      "Epoch 84, CIFAR-10 Batch 1:  Loss:     0.0086 Validation Accuracy: 0.528200\n",
      "Epoch 85, CIFAR-10 Batch 1:  Loss:     0.0218 Validation Accuracy: 0.524600\n",
      "Epoch 86, CIFAR-10 Batch 1:  Loss:     0.0065 Validation Accuracy: 0.545400\n",
      "Epoch 87, CIFAR-10 Batch 1:  Loss:     0.0063 Validation Accuracy: 0.527000\n",
      "Epoch 88, CIFAR-10 Batch 1:  Loss:     0.0097 Validation Accuracy: 0.526000\n",
      "Epoch 89, CIFAR-10 Batch 1:  Loss:     0.0061 Validation Accuracy: 0.538400\n",
      "Epoch 90, CIFAR-10 Batch 1:  Loss:     0.0083 Validation Accuracy: 0.533800\n",
      "Epoch 91, CIFAR-10 Batch 1:  Loss:     0.0098 Validation Accuracy: 0.514400\n",
      "Epoch 92, CIFAR-10 Batch 1:  Loss:     0.0119 Validation Accuracy: 0.524400\n",
      "Epoch 93, CIFAR-10 Batch 1:  Loss:     0.0123 Validation Accuracy: 0.538400\n",
      "Epoch 94, CIFAR-10 Batch 1:  Loss:     0.0091 Validation Accuracy: 0.545200\n",
      "Epoch 95, CIFAR-10 Batch 1:  Loss:     0.0077 Validation Accuracy: 0.542000\n",
      "Epoch 96, CIFAR-10 Batch 1:  Loss:     0.0068 Validation Accuracy: 0.542600\n",
      "Epoch 97, CIFAR-10 Batch 1:  Loss:     0.0037 Validation Accuracy: 0.546800\n",
      "Epoch 98, CIFAR-10 Batch 1:  Loss:     0.0090 Validation Accuracy: 0.528800\n",
      "Epoch 99, CIFAR-10 Batch 1:  Loss:     0.0046 Validation Accuracy: 0.543000\n",
      "Epoch 100, CIFAR-10 Batch 1:  Loss:     0.0059 Validation Accuracy: 0.526800\n"
     ]
    }
   ],
   "source": [
    "\"\"\"\n",
    "DON'T MODIFY ANYTHING IN THIS CELL\n",
    "\"\"\"\n",
    "print(\"epochs = %d\" % epochs)\n",
    "print(\"batch_size = %d\" % batch_size)\n",
    "print(\"keep_probability = %.2f\" % keep_probability)\n",
    "print('Checking the Training on a Single Batch...')\n",
    "with tf.Session() as sess:\n",
    "    # Initializing the variables\n",
    "    sess.run(tf.global_variables_initializer())\n",
    "    \n",
    "    # Training cycle\n",
    "    for epoch in range(epochs):\n",
    "        batch_i = 1\n",
    "        for batch_features, batch_labels in helper.load_preprocess_training_batch(batch_i, batch_size):\n",
    "            train_neural_network(sess, optimizer, keep_probability, batch_features, batch_labels)\n",
    "        print('Epoch {:>2}, CIFAR-10 Batch {}:  '.format(epoch + 1, batch_i), end='')\n",
    "        print_stats(sess, batch_features, batch_labels, cost, accuracy)"
   ]
  },
  {
   "cell_type": "code",
   "execution_count": null,
   "metadata": {
    "collapsed": true
   },
   "outputs": [],
   "source": [
    "# wrapper function for grid-search \n",
    "def calibrate_hyper_param_cnn(keep_probability, conv_plan, conv_depth, full_plan, batch_size, epochs=20):\n",
    "    # Remove previous weights, bias, inputs, etc..\n",
    "    tf.reset_default_graph()\n",
    "\n",
    "    # Inputs\n",
    "    x = neural_net_image_input((32, 32, 3))\n",
    "    y = neural_net_label_input(10)\n",
    "    keep_prob = neural_net_keep_prob_input()\n",
    "\n",
    "    # Model\n",
    "    logits = conv_net(x, keep_prob, conv_plan, conv_depth, full_plan)\n",
    "\n",
    "    # Name logits Tensor, so that is can be loaded from disk after training\n",
    "    logits = tf.identity(logits, name='logits')\n",
    "\n",
    "    # Loss and Optimizer\n",
    "    cost = tf.reduce_mean(tf.nn.softmax_cross_entropy_with_logits(logits=logits, labels=y))\n",
    "    optimizer = tf.train.AdamOptimizer().minimize(cost)\n",
    "\n",
    "    # Accuracy\n",
    "    correct_pred = tf.equal(tf.argmax(logits, 1), tf.argmax(y, 1))\n",
    "    accuracy = tf.reduce_mean(tf.cast(correct_pred, tf.float32), name='accuracy')\n",
    "\n",
    "    print(\"epochs = %d\" % epochs)\n",
    "    print(\"batch_size = %d\" % batch_size)\n",
    "    print(\"keep_probability = %.2f\" % keep_probability)\n",
    "    print('Checking the Training on a Single Batch...')\n",
    "    acc_df = None\n",
    "    with tf.Session() as sess:\n",
    "        # Initializing the variables\n",
    "        sess.run(tf.global_variables_initializer())\n",
    "\n",
    "        # Training cycle\n",
    "        for epoch in range(epochs):\n",
    "            batch_i = 1\n",
    "            for batch_features, batch_labels in helper.load_preprocess_training_batch(batch_i, batch_size):\n",
    "                train_neural_network(sess, optimizer, keep_probability, batch_features, batch_labels)\n",
    "            print('Epoch {:>2}, CIFAR-10 Batch {}:  '.format(epoch + 1, batch_i), end='')\n",
    "            row = save_stats(sess, batch_features, batch_labels, cost, accuracy, batch_i, epoch + 1)\n",
    "            if acc_df is None:\n",
    "                acc_df = row\n",
    "            else:\n",
    "                acc_df = acc_df.append(row)\n",
    "    acc_df['KeepProb'] = keep_probability\n",
    "    acc_df['ConvPlan'] = conv_plan\n",
    "    acc_df['ConvDepth'] = conv_depth\n",
    "    acc_df['FullPlan'] = full_plan\n",
    "    acc_df['BatchSize'] = batch_size\n",
    "    return acc_df"
   ]
  },
  {
   "cell_type": "code",
   "execution_count": null,
   "metadata": {
    "collapsed": false
   },
   "outputs": [],
   "source": [
    "# build grid-search parameters\n",
    "conv_plans = range(1,4)\n",
    "conv_depths = range(1,5)\n",
    "full_plans = range(1,6)\n",
    "keep_probs = [0.5,0.75]\n",
    "paramRack = expandgrid(conv_plans,conv_depths,full_plans,keep_probs)\n",
    "paramRack.columns = ['conv_plan','conv_depth','full_plan','keep_prob']\n",
    "len(paramRack)"
   ]
  },
  {
   "cell_type": "code",
   "execution_count": null,
   "metadata": {
    "collapsed": false
   },
   "outputs": [],
   "source": [
    "# print(paramRack)\n",
    "output_folder = 'F:/temp/udacity/set_2/'\n",
    "for i in range(1,len(paramRack)):\n",
    "    conv_plan = paramRack.at[i,'conv_plan']\n",
    "    conv_depth = paramRack.at[i,'conv_depth']\n",
    "    full_plan = paramRack.at[i,'full_plan']\n",
    "    keep_prob = paramRack.at[i,'keep_prob']\n",
    "    print('%3d: conv_plan=%d conv_depth=%d full_plan=%d keep_prob=%.2f'%(i,conv_plan,conv_depth,full_plan,keep_prob))\n",
    "    filename = 'experiment_%d.feather' % i\n",
    "    filepath = output_folder + filename\n",
    "    df = calibrate_hyper_param_cnn(keep_prob, conv_plan, conv_depth, full_plan, batch_size=1024, epochs=20)\n",
    "    feather.write_dataframe(df, output_folder + filename)\n",
    "    print(\"Write to %s\\n\" % filepath)\n",
    "\n",
    "# df = calibrate_hyper_param_cnn(keep_probability=0.5, conv_plan=1, full_plan=1, batch_size=256, epochs=10)\n",
    "# experiment_i = 1\n",
    "# feather.write_dataframe(df, output_folder + filename)"
   ]
  },
  {
   "cell_type": "markdown",
   "metadata": {},
   "source": [
    "### Fully Train the Model\n",
    "Now that you got a good accuracy with a single CIFAR-10 batch, try it with all five batches."
   ]
  },
  {
   "cell_type": "code",
   "execution_count": 44,
   "metadata": {
    "collapsed": true
   },
   "outputs": [],
   "source": [
    "# TODO: Tune Parameters\n",
    "epochs = 30\n",
    "batch_size = 256\n",
    "keep_probability = 0.75"
   ]
  },
  {
   "cell_type": "code",
   "execution_count": 45,
   "metadata": {
    "collapsed": false,
    "scrolled": false
   },
   "outputs": [
    {
     "name": "stdout",
     "output_type": "stream",
     "text": [
      "Training...\n",
      "Epoch  1, CIFAR-10 Batch 1:  Loss:     2.1694 Validation Accuracy: 0.224800\n",
      "Epoch  1, CIFAR-10 Batch 2:  Loss:     1.9625 Validation Accuracy: 0.274200\n",
      "Epoch  1, CIFAR-10 Batch 3:  Loss:     1.6925 Validation Accuracy: 0.316200\n",
      "Epoch  1, CIFAR-10 Batch 4:  Loss:     1.7515 Validation Accuracy: 0.337800\n",
      "Epoch  1, CIFAR-10 Batch 5:  Loss:     1.7802 Validation Accuracy: 0.381600\n",
      "Epoch  2, CIFAR-10 Batch 1:  Loss:     1.7528 Validation Accuracy: 0.423600\n",
      "Epoch  2, CIFAR-10 Batch 2:  Loss:     1.4973 Validation Accuracy: 0.427000\n",
      "Epoch  2, CIFAR-10 Batch 3:  Loss:     1.3144 Validation Accuracy: 0.424400\n",
      "Epoch  2, CIFAR-10 Batch 4:  Loss:     1.3677 Validation Accuracy: 0.456400\n",
      "Epoch  2, CIFAR-10 Batch 5:  Loss:     1.5066 Validation Accuracy: 0.469200\n",
      "Epoch  3, CIFAR-10 Batch 1:  Loss:     1.4444 Validation Accuracy: 0.501200\n",
      "Epoch  3, CIFAR-10 Batch 2:  Loss:     1.2320 Validation Accuracy: 0.462600\n",
      "Epoch  3, CIFAR-10 Batch 3:  Loss:     1.0431 Validation Accuracy: 0.506400\n",
      "Epoch  3, CIFAR-10 Batch 4:  Loss:     1.2189 Validation Accuracy: 0.491000\n",
      "Epoch  3, CIFAR-10 Batch 5:  Loss:     1.3821 Validation Accuracy: 0.477200\n",
      "Epoch  4, CIFAR-10 Batch 1:  Loss:     1.2589 Validation Accuracy: 0.531800\n",
      "Epoch  4, CIFAR-10 Batch 2:  Loss:     1.0761 Validation Accuracy: 0.497600\n",
      "Epoch  4, CIFAR-10 Batch 3:  Loss:     0.8726 Validation Accuracy: 0.521800\n",
      "Epoch  4, CIFAR-10 Batch 4:  Loss:     1.1305 Validation Accuracy: 0.515000\n",
      "Epoch  4, CIFAR-10 Batch 5:  Loss:     1.1575 Validation Accuracy: 0.518600\n",
      "Epoch  5, CIFAR-10 Batch 1:  Loss:     1.1553 Validation Accuracy: 0.532600\n",
      "Epoch  5, CIFAR-10 Batch 2:  Loss:     0.9904 Validation Accuracy: 0.531000\n",
      "Epoch  5, CIFAR-10 Batch 3:  Loss:     0.8135 Validation Accuracy: 0.553400\n",
      "Epoch  5, CIFAR-10 Batch 4:  Loss:     1.0838 Validation Accuracy: 0.530400\n",
      "Epoch  5, CIFAR-10 Batch 5:  Loss:     1.0854 Validation Accuracy: 0.526200\n",
      "Epoch  6, CIFAR-10 Batch 1:  Loss:     0.9529 Validation Accuracy: 0.569000\n",
      "Epoch  6, CIFAR-10 Batch 2:  Loss:     0.8865 Validation Accuracy: 0.546200\n",
      "Epoch  6, CIFAR-10 Batch 3:  Loss:     0.7580 Validation Accuracy: 0.547800\n",
      "Epoch  6, CIFAR-10 Batch 4:  Loss:     0.9751 Validation Accuracy: 0.538200\n",
      "Epoch  6, CIFAR-10 Batch 5:  Loss:     0.9373 Validation Accuracy: 0.558600\n",
      "Epoch  7, CIFAR-10 Batch 1:  Loss:     0.9465 Validation Accuracy: 0.577200\n",
      "Epoch  7, CIFAR-10 Batch 2:  Loss:     0.7750 Validation Accuracy: 0.555200\n",
      "Epoch  7, CIFAR-10 Batch 3:  Loss:     0.7100 Validation Accuracy: 0.572800\n",
      "Epoch  7, CIFAR-10 Batch 4:  Loss:     0.8816 Validation Accuracy: 0.580400\n",
      "Epoch  7, CIFAR-10 Batch 5:  Loss:     0.8256 Validation Accuracy: 0.548400\n",
      "Epoch  8, CIFAR-10 Batch 1:  Loss:     0.8554 Validation Accuracy: 0.607400\n",
      "Epoch  8, CIFAR-10 Batch 2:  Loss:     0.7370 Validation Accuracy: 0.568000\n",
      "Epoch  8, CIFAR-10 Batch 3:  Loss:     0.6129 Validation Accuracy: 0.583000\n",
      "Epoch  8, CIFAR-10 Batch 4:  Loss:     0.7214 Validation Accuracy: 0.590600\n",
      "Epoch  8, CIFAR-10 Batch 5:  Loss:     0.7200 Validation Accuracy: 0.562800\n",
      "Epoch  9, CIFAR-10 Batch 1:  Loss:     0.8294 Validation Accuracy: 0.608800\n",
      "Epoch  9, CIFAR-10 Batch 2:  Loss:     0.5797 Validation Accuracy: 0.597000\n",
      "Epoch  9, CIFAR-10 Batch 3:  Loss:     0.4899 Validation Accuracy: 0.598400\n",
      "Epoch  9, CIFAR-10 Batch 4:  Loss:     0.7042 Validation Accuracy: 0.586800\n",
      "Epoch  9, CIFAR-10 Batch 5:  Loss:     0.6388 Validation Accuracy: 0.591600\n",
      "Epoch 10, CIFAR-10 Batch 1:  Loss:     0.6989 Validation Accuracy: 0.625800\n",
      "Epoch 10, CIFAR-10 Batch 2:  Loss:     0.5487 Validation Accuracy: 0.600600\n",
      "Epoch 10, CIFAR-10 Batch 3:  Loss:     0.4749 Validation Accuracy: 0.613200\n",
      "Epoch 10, CIFAR-10 Batch 4:  Loss:     0.6386 Validation Accuracy: 0.582000\n",
      "Epoch 10, CIFAR-10 Batch 5:  Loss:     0.6729 Validation Accuracy: 0.572200\n",
      "Epoch 11, CIFAR-10 Batch 1:  Loss:     0.6842 Validation Accuracy: 0.622800\n",
      "Epoch 11, CIFAR-10 Batch 2:  Loss:     0.5469 Validation Accuracy: 0.604800\n",
      "Epoch 11, CIFAR-10 Batch 3:  Loss:     0.4818 Validation Accuracy: 0.587800\n",
      "Epoch 11, CIFAR-10 Batch 4:  Loss:     0.5427 Validation Accuracy: 0.616800\n",
      "Epoch 11, CIFAR-10 Batch 5:  Loss:     0.4895 Validation Accuracy: 0.609800\n",
      "Epoch 12, CIFAR-10 Batch 1:  Loss:     0.7219 Validation Accuracy: 0.607400\n",
      "Epoch 12, CIFAR-10 Batch 2:  Loss:     0.4076 Validation Accuracy: 0.617600\n",
      "Epoch 12, CIFAR-10 Batch 3:  Loss:     0.3560 Validation Accuracy: 0.616600\n",
      "Epoch 12, CIFAR-10 Batch 4:  Loss:     0.4874 Validation Accuracy: 0.626400\n",
      "Epoch 12, CIFAR-10 Batch 5:  Loss:     0.5200 Validation Accuracy: 0.597800\n",
      "Epoch 13, CIFAR-10 Batch 1:  Loss:     0.6019 Validation Accuracy: 0.623600\n",
      "Epoch 13, CIFAR-10 Batch 2:  Loss:     0.4266 Validation Accuracy: 0.628800\n",
      "Epoch 13, CIFAR-10 Batch 3:  Loss:     0.3446 Validation Accuracy: 0.615000\n",
      "Epoch 13, CIFAR-10 Batch 4:  Loss:     0.5226 Validation Accuracy: 0.629600\n",
      "Epoch 13, CIFAR-10 Batch 5:  Loss:     0.4608 Validation Accuracy: 0.612600\n",
      "Epoch 14, CIFAR-10 Batch 1:  Loss:     0.6076 Validation Accuracy: 0.605400\n",
      "Epoch 14, CIFAR-10 Batch 2:  Loss:     0.4041 Validation Accuracy: 0.638000\n",
      "Epoch 14, CIFAR-10 Batch 3:  Loss:     0.3219 Validation Accuracy: 0.619200\n",
      "Epoch 14, CIFAR-10 Batch 4:  Loss:     0.4620 Validation Accuracy: 0.632600\n",
      "Epoch 14, CIFAR-10 Batch 5:  Loss:     0.3642 Validation Accuracy: 0.621800\n",
      "Epoch 15, CIFAR-10 Batch 1:  Loss:     0.4630 Validation Accuracy: 0.626000\n",
      "Epoch 15, CIFAR-10 Batch 2:  Loss:     0.4129 Validation Accuracy: 0.626200\n",
      "Epoch 15, CIFAR-10 Batch 3:  Loss:     0.2728 Validation Accuracy: 0.626200\n",
      "Epoch 15, CIFAR-10 Batch 4:  Loss:     0.4193 Validation Accuracy: 0.644600\n",
      "Epoch 15, CIFAR-10 Batch 5:  Loss:     0.3413 Validation Accuracy: 0.623600\n",
      "Epoch 16, CIFAR-10 Batch 1:  Loss:     0.5898 Validation Accuracy: 0.629000\n",
      "Epoch 16, CIFAR-10 Batch 2:  Loss:     0.4158 Validation Accuracy: 0.625800\n",
      "Epoch 16, CIFAR-10 Batch 3:  Loss:     0.2621 Validation Accuracy: 0.626800\n",
      "Epoch 16, CIFAR-10 Batch 4:  Loss:     0.3989 Validation Accuracy: 0.647000\n",
      "Epoch 16, CIFAR-10 Batch 5:  Loss:     0.2735 Validation Accuracy: 0.627000\n",
      "Epoch 17, CIFAR-10 Batch 1:  Loss:     0.4608 Validation Accuracy: 0.616600\n",
      "Epoch 17, CIFAR-10 Batch 2:  Loss:     0.3827 Validation Accuracy: 0.617000\n",
      "Epoch 17, CIFAR-10 Batch 3:  Loss:     0.2324 Validation Accuracy: 0.638000\n",
      "Epoch 17, CIFAR-10 Batch 4:  Loss:     0.4116 Validation Accuracy: 0.634800\n",
      "Epoch 17, CIFAR-10 Batch 5:  Loss:     0.2576 Validation Accuracy: 0.640000\n",
      "Epoch 18, CIFAR-10 Batch 1:  Loss:     0.4657 Validation Accuracy: 0.610000\n",
      "Epoch 18, CIFAR-10 Batch 2:  Loss:     0.3484 Validation Accuracy: 0.626800\n",
      "Epoch 18, CIFAR-10 Batch 3:  Loss:     0.2525 Validation Accuracy: 0.627600\n",
      "Epoch 18, CIFAR-10 Batch 4:  Loss:     0.3182 Validation Accuracy: 0.642400\n",
      "Epoch 18, CIFAR-10 Batch 5:  Loss:     0.2523 Validation Accuracy: 0.618600\n",
      "Epoch 19, CIFAR-10 Batch 1:  Loss:     0.4077 Validation Accuracy: 0.630600\n",
      "Epoch 19, CIFAR-10 Batch 2:  Loss:     0.3143 Validation Accuracy: 0.633200\n",
      "Epoch 19, CIFAR-10 Batch 3:  Loss:     0.2455 Validation Accuracy: 0.626200\n",
      "Epoch 19, CIFAR-10 Batch 4:  Loss:     0.3036 Validation Accuracy: 0.655600\n",
      "Epoch 19, CIFAR-10 Batch 5:  Loss:     0.2238 Validation Accuracy: 0.642800\n",
      "Epoch 20, CIFAR-10 Batch 1:  Loss:     0.3466 Validation Accuracy: 0.642000\n",
      "Epoch 20, CIFAR-10 Batch 2:  Loss:     0.3265 Validation Accuracy: 0.635200\n",
      "Epoch 20, CIFAR-10 Batch 3:  Loss:     0.2227 Validation Accuracy: 0.644600\n",
      "Epoch 20, CIFAR-10 Batch 4:  Loss:     0.3108 Validation Accuracy: 0.650800\n",
      "Epoch 20, CIFAR-10 Batch 5:  Loss:     0.2441 Validation Accuracy: 0.620800\n",
      "Epoch 21, CIFAR-10 Batch 1:  Loss:     0.3172 Validation Accuracy: 0.630400\n",
      "Epoch 21, CIFAR-10 Batch 2:  Loss:     0.2984 Validation Accuracy: 0.638000\n",
      "Epoch 21, CIFAR-10 Batch 3:  Loss:     0.1990 Validation Accuracy: 0.629400\n",
      "Epoch 21, CIFAR-10 Batch 4:  Loss:     0.2518 Validation Accuracy: 0.658200\n",
      "Epoch 21, CIFAR-10 Batch 5:  Loss:     0.2220 Validation Accuracy: 0.630400\n",
      "Epoch 22, CIFAR-10 Batch 1:  Loss:     0.3031 Validation Accuracy: 0.629400\n",
      "Epoch 22, CIFAR-10 Batch 2:  Loss:     0.2867 Validation Accuracy: 0.644000\n",
      "Epoch 22, CIFAR-10 Batch 3:  Loss:     0.1685 Validation Accuracy: 0.643800\n",
      "Epoch 22, CIFAR-10 Batch 4:  Loss:     0.3077 Validation Accuracy: 0.663800\n",
      "Epoch 22, CIFAR-10 Batch 5:  Loss:     0.2231 Validation Accuracy: 0.624000\n",
      "Epoch 23, CIFAR-10 Batch 1:  Loss:     0.2976 Validation Accuracy: 0.653800\n",
      "Epoch 23, CIFAR-10 Batch 2:  Loss:     0.2638 Validation Accuracy: 0.646800\n",
      "Epoch 23, CIFAR-10 Batch 3:  Loss:     0.1838 Validation Accuracy: 0.646600\n",
      "Epoch 23, CIFAR-10 Batch 4:  Loss:     0.2299 Validation Accuracy: 0.674400\n",
      "Epoch 23, CIFAR-10 Batch 5:  Loss:     0.2103 Validation Accuracy: 0.647000\n",
      "Epoch 24, CIFAR-10 Batch 1:  Loss:     0.2612 Validation Accuracy: 0.648000\n",
      "Epoch 24, CIFAR-10 Batch 2:  Loss:     0.2255 Validation Accuracy: 0.639800\n",
      "Epoch 24, CIFAR-10 Batch 3:  Loss:     0.1440 Validation Accuracy: 0.653200\n",
      "Epoch 24, CIFAR-10 Batch 4:  Loss:     0.2277 Validation Accuracy: 0.664200\n",
      "Epoch 24, CIFAR-10 Batch 5:  Loss:     0.1422 Validation Accuracy: 0.651600\n",
      "Epoch 25, CIFAR-10 Batch 1:  Loss:     0.2506 Validation Accuracy: 0.655200\n",
      "Epoch 25, CIFAR-10 Batch 2:  Loss:     0.1918 Validation Accuracy: 0.641600\n",
      "Epoch 25, CIFAR-10 Batch 3:  Loss:     0.1480 Validation Accuracy: 0.643000\n",
      "Epoch 25, CIFAR-10 Batch 4:  Loss:     0.1866 Validation Accuracy: 0.663400\n",
      "Epoch 25, CIFAR-10 Batch 5:  Loss:     0.1709 Validation Accuracy: 0.634400\n",
      "Epoch 26, CIFAR-10 Batch 1:  Loss:     0.1761 Validation Accuracy: 0.653200\n",
      "Epoch 26, CIFAR-10 Batch 2:  Loss:     0.2611 Validation Accuracy: 0.639000\n",
      "Epoch 26, CIFAR-10 Batch 3:  Loss:     0.1503 Validation Accuracy: 0.658400\n",
      "Epoch 26, CIFAR-10 Batch 4:  Loss:     0.2043 Validation Accuracy: 0.657800\n",
      "Epoch 26, CIFAR-10 Batch 5:  Loss:     0.1555 Validation Accuracy: 0.652800\n",
      "Epoch 27, CIFAR-10 Batch 1:  Loss:     0.1834 Validation Accuracy: 0.653400\n",
      "Epoch 27, CIFAR-10 Batch 2:  Loss:     0.2220 Validation Accuracy: 0.639000\n",
      "Epoch 27, CIFAR-10 Batch 3:  Loss:     0.1129 Validation Accuracy: 0.647600\n",
      "Epoch 27, CIFAR-10 Batch 4:  Loss:     0.1479 Validation Accuracy: 0.674400\n",
      "Epoch 27, CIFAR-10 Batch 5:  Loss:     0.1418 Validation Accuracy: 0.643400\n",
      "Epoch 28, CIFAR-10 Batch 1:  Loss:     0.1956 Validation Accuracy: 0.655000\n",
      "Epoch 28, CIFAR-10 Batch 2:  Loss:     0.1724 Validation Accuracy: 0.654600\n",
      "Epoch 28, CIFAR-10 Batch 3:  Loss:     0.1356 Validation Accuracy: 0.629000\n",
      "Epoch 28, CIFAR-10 Batch 4:  Loss:     0.2134 Validation Accuracy: 0.674000\n",
      "Epoch 28, CIFAR-10 Batch 5:  Loss:     0.1304 Validation Accuracy: 0.637800\n",
      "Epoch 29, CIFAR-10 Batch 1:  Loss:     0.2259 Validation Accuracy: 0.657600\n",
      "Epoch 29, CIFAR-10 Batch 2:  Loss:     0.2041 Validation Accuracy: 0.655800\n",
      "Epoch 29, CIFAR-10 Batch 3:  Loss:     0.1199 Validation Accuracy: 0.660200\n",
      "Epoch 29, CIFAR-10 Batch 4:  Loss:     0.1773 Validation Accuracy: 0.670400\n",
      "Epoch 29, CIFAR-10 Batch 5:  Loss:     0.1373 Validation Accuracy: 0.643400\n",
      "Epoch 30, CIFAR-10 Batch 1:  Loss:     0.1970 Validation Accuracy: 0.650400\n",
      "Epoch 30, CIFAR-10 Batch 2:  Loss:     0.1372 Validation Accuracy: 0.661800\n",
      "Epoch 30, CIFAR-10 Batch 3:  Loss:     0.1467 Validation Accuracy: 0.650800\n",
      "Epoch 30, CIFAR-10 Batch 4:  Loss:     0.1224 Validation Accuracy: 0.675600\n",
      "Epoch 30, CIFAR-10 Batch 5:  Loss:     0.1167 Validation Accuracy: 0.631400\n"
     ]
    }
   ],
   "source": [
    "\"\"\"\n",
    "DON'T MODIFY ANYTHING IN THIS CELL\n",
    "\"\"\"\n",
    "save_model_path = './image_classification'\n",
    "\n",
    "print('Training...')\n",
    "with tf.Session() as sess:\n",
    "    # Initializing the variables\n",
    "    sess.run(tf.global_variables_initializer())\n",
    "    \n",
    "    # Training cycle\n",
    "    for epoch in range(epochs):\n",
    "        # Loop over all batches\n",
    "        n_batches = 5\n",
    "        for batch_i in range(1, n_batches + 1):\n",
    "            for batch_features, batch_labels in helper.load_preprocess_training_batch(batch_i, batch_size):\n",
    "                train_neural_network(sess, optimizer, keep_probability, batch_features, batch_labels)\n",
    "            print('Epoch {:>2}, CIFAR-10 Batch {}:  '.format(epoch + 1, batch_i), end='')\n",
    "            print_stats(sess, batch_features, batch_labels, cost, accuracy)\n",
    "            \n",
    "    # Save Model\n",
    "    saver = tf.train.Saver()\n",
    "    save_path = saver.save(sess, save_model_path)"
   ]
  },
  {
   "cell_type": "markdown",
   "metadata": {},
   "source": [
    "# Checkpoint\n",
    "The model has been saved to disk.\n",
    "## Test Model\n",
    "Test your model against the test dataset.  This will be your final accuracy. You should have an accuracy greater than 50%. If you don't, keep tweaking the model architecture and parameters."
   ]
  },
  {
   "cell_type": "code",
   "execution_count": 46,
   "metadata": {
    "collapsed": false
   },
   "outputs": [
    {
     "name": "stdout",
     "output_type": "stream",
     "text": [
      "Testing Accuracy: 0.63125\n",
      "\n"
     ]
    },
    {
     "data": {
      "image/png": "[encoded data removed]",
      "text/plain": [
       "<matplotlib.figure.Figure at 0x1199208>"
      ]
     },
     "metadata": {
      "image/png": {
       "height": 319,
       "width": 355
      }
     },
     "output_type": "display_data"
    }
   ],
   "source": [
    "\"\"\"\n",
    "DON'T MODIFY ANYTHING IN THIS CELL\n",
    "\"\"\"\n",
    "%matplotlib inline\n",
    "%config InlineBackend.figure_format = 'retina'\n",
    "\n",
    "import tensorflow as tf\n",
    "import pickle\n",
    "import helper\n",
    "import random\n",
    "\n",
    "# Set batch size if not already set\n",
    "try:\n",
    "    if batch_size:\n",
    "        pass\n",
    "except NameError:\n",
    "    batch_size = 64\n",
    "\n",
    "save_model_path = './image_classification'\n",
    "n_samples = 4\n",
    "top_n_predictions = 3\n",
    "\n",
    "def test_model():\n",
    "    \"\"\"\n",
    "    Test the saved model against the test dataset\n",
    "    \"\"\"\n",
    "\n",
    "    test_features, test_labels = pickle.load(open('preprocess_training.p', mode='rb'))\n",
    "    loaded_graph = tf.Graph()\n",
    "\n",
    "    with tf.Session(graph=loaded_graph) as sess:\n",
    "        # Load model\n",
    "        loader = tf.train.import_meta_graph(save_model_path + '.meta')\n",
    "        loader.restore(sess, save_model_path)\n",
    "\n",
    "        # Get Tensors from loaded model\n",
    "        loaded_x = loaded_graph.get_tensor_by_name('x:0')\n",
    "        loaded_y = loaded_graph.get_tensor_by_name('y:0')\n",
    "        loaded_keep_prob = loaded_graph.get_tensor_by_name('keep_prob:0')\n",
    "        loaded_logits = loaded_graph.get_tensor_by_name('logits:0')\n",
    "        loaded_acc = loaded_graph.get_tensor_by_name('accuracy:0')\n",
    "        \n",
    "        # Get accuracy in batches for memory limitations\n",
    "        test_batch_acc_total = 0\n",
    "        test_batch_count = 0\n",
    "        \n",
    "        for train_feature_batch, train_label_batch in helper.batch_features_labels(test_features, test_labels, batch_size):\n",
    "            test_batch_acc_total += sess.run(\n",
    "                loaded_acc,\n",
    "                feed_dict={loaded_x: train_feature_batch, loaded_y: train_label_batch, loaded_keep_prob: 1.0})\n",
    "            test_batch_count += 1\n",
    "\n",
    "        print('Testing Accuracy: {}\\n'.format(test_batch_acc_total/test_batch_count))\n",
    "\n",
    "        # Print Random Samples\n",
    "        random_test_features, random_test_labels = tuple(zip(*random.sample(list(zip(test_features, test_labels)), n_samples)))\n",
    "        random_test_predictions = sess.run(\n",
    "            tf.nn.top_k(tf.nn.softmax(loaded_logits), top_n_predictions),\n",
    "            feed_dict={loaded_x: random_test_features, loaded_y: random_test_labels, loaded_keep_prob: 1.0})\n",
    "        helper.display_image_predictions(random_test_features, random_test_labels, random_test_predictions)\n",
    "\n",
    "\n",
    "test_model()"
   ]
  },
  {
   "cell_type": "markdown",
   "metadata": {},
   "source": [
    "## Why 50-70% Accuracy?\n",
    "You might be wondering why you can't get an accuracy any higher. First things first, 50% isn't bad for a simple CNN.  Pure guessing would get you 10% accuracy. However, you might notice people are getting scores [well above 70%](http://rodrigob.github.io/are_we_there_yet/build/classification_datasets_results.html#43494641522d3130).  That's because we haven't taught you all there is to know about neural networks. We still need to cover a few more techniques.\n",
    "## Submitting This Project\n",
    "When submitting this project, make sure to run all the cells before saving the notebook.  Save the notebook file as \"dlnd_image_classification.ipynb\" and save it as a HTML file under \"File\" -> \"Download as\".  Include the \"helper.py\" and \"problem_unittests.py\" files in your submission."
   ]
  }
 ],
 "metadata": {
  "anaconda-cloud": {},
  "kernelspec": {
   "display_name": "Python 3",
   "language": "python",
   "name": "python3"
  },
  "language_info": {
   "codemirror_mode": {
    "name": "ipython",
    "version": 3
   },
   "file_extension": ".py",
   "mimetype": "text/x-python",
   "name": "python",
   "nbconvert_exporter": "python",
   "pygments_lexer": "ipython3",
   "version": "3.5.3"
  }
 },
 "nbformat": 4,
 "nbformat_minor": 0
}
