{
 "cells": [
  {
   "cell_type": "markdown",
   "metadata": {
    "deletable": true,
    "editable": true
   },
   "source": [
    "# TV Script Generation\n",
    "In this project, you'll generate your own [Simpsons](https://en.wikipedia.org/wiki/The_Simpsons) TV scripts using RNNs.  You'll be using part of the [Simpsons dataset](https://www.kaggle.com/wcukierski/the-simpsons-by-the-data) of scripts from 27 seasons.  The Neural Network you'll build will generate a new TV script for a scene at [Moe's Tavern](https://simpsonswiki.com/wiki/Moe's_Tavern).\n",
    "## Get the Data\n",
    "The data is already provided for you.  You'll be using a subset of the original dataset.  It consists of only the scenes in Moe's Tavern.  This doesn't include other versions of the tavern, like \"Moe's Cavern\", \"Flaming Moe's\", \"Uncle Moe's Family Feed-Bag\", etc.."
   ]
  },
  {
   "cell_type": "code",
   "execution_count": 1,
   "metadata": {
    "collapsed": false,
    "deletable": true,
    "editable": true
   },
   "outputs": [],
   "source": [
    "\"\"\"\n",
    "DON'T MODIFY ANYTHING IN THIS CELL\n",
    "\"\"\"\n",
    "import helper\n",
    "\n",
    "data_dir = './data/simpsons/moes_tavern_lines.txt'\n",
    "text = helper.load_data(data_dir)\n",
    "# Ignore notice, since we don't use it for analysing the data\n",
    "text = text[81:]"
   ]
  },
  {
   "cell_type": "markdown",
   "metadata": {
    "deletable": true,
    "editable": true
   },
   "source": [
    "## Explore the Data\n",
    "Play around with `view_sentence_range` to view different parts of the data."
   ]
  },
  {
   "cell_type": "code",
   "execution_count": 2,
   "metadata": {
    "collapsed": false,
    "deletable": true,
    "editable": true
   },
   "outputs": [
    {
     "name": "stdout",
     "output_type": "stream",
     "text": [
      "Dataset Stats\n",
      "Roughly the number of unique words: 11492\n",
      "Number of scenes: 262\n",
      "Average number of sentences in each scene: 15.248091603053435\n",
      "Number of lines: 4257\n",
      "Average number of words in each line: 11.50434578341555\n",
      "\n",
      "The sentences 0 to 10:\n",
      "Moe_Szyslak: (INTO PHONE) Moe's Tavern. Where the elite meet to drink.\n",
      "Bart_Simpson: Eh, yeah, hello, is Mike there? Last name, Rotch.\n",
      "Moe_Szyslak: (INTO PHONE) Hold on, I'll check. (TO BARFLIES) Mike Rotch. Mike Rotch. Hey, has anybody seen Mike Rotch, lately?\n",
      "Moe_Szyslak: (INTO PHONE) Listen you little puke. One of these days I'm gonna catch you, and I'm gonna carve my name on your back with an ice pick.\n",
      "Moe_Szyslak: What's the matter Homer? You're not your normal effervescent self.\n",
      "Homer_Simpson: I got my problems, Moe. Give me another one.\n",
      "Moe_Szyslak: Homer, hey, you should not drink to forget your problems.\n",
      "Barney_Gumble: Yeah, you should only drink to enhance your social skills.\n",
      "\n",
      "\n"
     ]
    }
   ],
   "source": [
    "view_sentence_range = (0, 10)\n",
    "\n",
    "\"\"\"\n",
    "DON'T MODIFY ANYTHING IN THIS CELL\n",
    "\"\"\"\n",
    "import numpy as np\n",
    "\n",
    "print('Dataset Stats')\n",
    "print('Roughly the number of unique words: {}'.format(len({word: None for word in text.split()})))\n",
    "scenes = text.split('\\n\\n')\n",
    "print('Number of scenes: {}'.format(len(scenes)))\n",
    "sentence_count_scene = [scene.count('\\n') for scene in scenes]\n",
    "print('Average number of sentences in each scene: {}'.format(np.average(sentence_count_scene)))\n",
    "\n",
    "sentences = [sentence for scene in scenes for sentence in scene.split('\\n')]\n",
    "print('Number of lines: {}'.format(len(sentences)))\n",
    "word_count_sentence = [len(sentence.split()) for sentence in sentences]\n",
    "print('Average number of words in each line: {}'.format(np.average(word_count_sentence)))\n",
    "\n",
    "print()\n",
    "print('The sentences {} to {}:'.format(*view_sentence_range))\n",
    "print('\\n'.join(text.split('\\n')[view_sentence_range[0]:view_sentence_range[1]]))"
   ]
  },
  {
   "cell_type": "markdown",
   "metadata": {
    "deletable": true,
    "editable": true
   },
   "source": [
    "## Implement Preprocessing Functions\n",
    "The first thing to do to any dataset is preprocessing.  Implement the following preprocessing functions below:\n",
    "- Lookup Table\n",
    "- Tokenize Punctuation\n",
    "\n",
    "### Lookup Table\n",
    "To create a word embedding, you first need to transform the words to ids.  In this function, create two dictionaries:\n",
    "- Dictionary to go from the words to an id, we'll call `vocab_to_int`\n",
    "- Dictionary to go from the id to word, we'll call `int_to_vocab`\n",
    "\n",
    "Return these dictionaries in the following tuple `(vocab_to_int, int_to_vocab)`"
   ]
  },
  {
   "cell_type": "code",
   "execution_count": 3,
   "metadata": {
    "collapsed": false,
    "deletable": true,
    "editable": true
   },
   "outputs": [
    {
     "name": "stdout",
     "output_type": "stream",
     "text": [
      "Tests Passed\n"
     ]
    }
   ],
   "source": [
    "import numpy as np\n",
    "import problem_unittests as tests\n",
    "from collections import Counter\n",
    "\n",
    "def create_lookup_tables(text):\n",
    "    \"\"\"\n",
    "    Create lookup tables for vocabulary\n",
    "    :param text: The text of tv scripts split into words\n",
    "    :return: A tuple of dicts (vocab_to_int, int_to_vocab)\n",
    "    \"\"\"\n",
    "    # TODO: Implement Function\n",
    "    word_counts = Counter(text)\n",
    "    sorted_vocab = sorted(word_counts, key=word_counts.get, reverse=True)\n",
    "    int_to_vocab = {ii: word for ii, word in enumerate(sorted_vocab)}\n",
    "    vocab_to_int = {word: ii for ii, word in int_to_vocab.items()}\n",
    "    return vocab_to_int, int_to_vocab\n",
    "\n",
    "\n",
    "\"\"\"\n",
    "DON'T MODIFY ANYTHING IN THIS CELL THAT IS BELOW THIS LINE\n",
    "\"\"\"\n",
    "tests.test_create_lookup_tables(create_lookup_tables)"
   ]
  },
  {
   "cell_type": "markdown",
   "metadata": {
    "deletable": true,
    "editable": true
   },
   "source": [
    "### Tokenize Punctuation\n",
    "We'll be splitting the script into a word array using spaces as delimiters.  However, punctuations like periods and exclamation marks make it hard for the neural network to distinguish between the word \"bye\" and \"bye!\".\n",
    "\n",
    "Implement the function `token_lookup` to return a dict that will be used to tokenize symbols like \"!\" into \"||Exclamation_Mark||\".  Create a dictionary for the following symbols where the symbol is the key and value is the token:\n",
    "- Period ( . )\n",
    "- Comma ( , )\n",
    "- Quotation Mark ( \" )\n",
    "- Semicolon ( ; )\n",
    "- Exclamation mark ( ! )\n",
    "- Question mark ( ? )\n",
    "- Left Parentheses ( ( )\n",
    "- Right Parentheses ( ) )\n",
    "- Dash ( -- )\n",
    "- Return ( \\n )\n",
    "\n",
    "This dictionary will be used to token the symbols and add the delimiter (space) around it.  This separates the symbols as it's own word, making it easier for the neural network to predict on the next word. Make sure you don't use a token that could be confused as a word. Instead of using the token \"dash\", try using something like \"||dash||\"."
   ]
  },
  {
   "cell_type": "code",
   "execution_count": 4,
   "metadata": {
    "collapsed": false,
    "deletable": true,
    "editable": true
   },
   "outputs": [
    {
     "name": "stdout",
     "output_type": "stream",
     "text": [
      "Tests Passed\n"
     ]
    }
   ],
   "source": [
    "def token_lookup():\n",
    "    \"\"\"\n",
    "    Generate a dict to turn punctuation into a token.\n",
    "    :return: Tokenize dictionary where the key is the punctuation and the value is the token\n",
    "    \"\"\"\n",
    "    # TODO: Implement Function\n",
    "    dict = {'.':'||Period||', ',':\"||Comma||\", '\"':\"||QuotationMark||\", ';':\"||Semicolon||\", '!':\"||ExclamationMark||\", \\\n",
    "            '?':\"||QuestionMark||\", '(':\"||LeftParentheses||\", ')':\"||RightParentheses||\", '--':\"||Dash||\", '\\n':\"||Return||\"}\n",
    "    return dict\n",
    "\n",
    "\"\"\"\n",
    "DON'T MODIFY ANYTHING IN THIS CELL THAT IS BELOW THIS LINE\n",
    "\"\"\"\n",
    "tests.test_tokenize(token_lookup)"
   ]
  },
  {
   "cell_type": "markdown",
   "metadata": {
    "deletable": true,
    "editable": true
   },
   "source": [
    "## Preprocess all the data and save it\n",
    "Running the code cell below will preprocess all the data and save it to file."
   ]
  },
  {
   "cell_type": "code",
   "execution_count": 5,
   "metadata": {
    "collapsed": false,
    "deletable": true,
    "editable": true
   },
   "outputs": [],
   "source": [
    "\"\"\"\n",
    "DON'T MODIFY ANYTHING IN THIS CELL\n",
    "\"\"\"\n",
    "# Preprocess Training, Validation, and Testing Data\n",
    "helper.preprocess_and_save_data(data_dir, token_lookup, create_lookup_tables)"
   ]
  },
  {
   "cell_type": "markdown",
   "metadata": {
    "deletable": true,
    "editable": true
   },
   "source": [
    "# Check Point\n",
    "This is your first checkpoint. If you ever decide to come back to this notebook or have to restart the notebook, you can start from here. The preprocessed data has been saved to disk."
   ]
  },
  {
   "cell_type": "code",
   "execution_count": 6,
   "metadata": {
    "collapsed": false,
    "deletable": true,
    "editable": true
   },
   "outputs": [],
   "source": [
    "\"\"\"\n",
    "DON'T MODIFY ANYTHING IN THIS CELL\n",
    "\"\"\"\n",
    "import helper\n",
    "import numpy as np\n",
    "import problem_unittests as tests\n",
    "\n",
    "int_text, vocab_to_int, int_to_vocab, token_dict = helper.load_preprocess()"
   ]
  },
  {
   "cell_type": "markdown",
   "metadata": {
    "deletable": true,
    "editable": true
   },
   "source": [
    "### Misc. Function"
   ]
  },
  {
   "cell_type": "code",
   "execution_count": 7,
   "metadata": {
    "collapsed": false,
    "deletable": true,
    "editable": true
   },
   "outputs": [
    {
     "name": "stdout",
     "output_type": "stream",
     "text": [
      "curses is not supported on this machine (please install/reinstall curses for an optimal experience)\n"
     ]
    }
   ],
   "source": [
    "from tflearn.utils import get_incoming_shape"
   ]
  },
  {
   "cell_type": "markdown",
   "metadata": {
    "deletable": true,
    "editable": true
   },
   "source": [
    "## Build the Neural Network\n",
    "You'll build the components necessary to build a RNN by implementing the following functions below:\n",
    "- get_inputs\n",
    "- get_init_cell\n",
    "- get_embed\n",
    "- build_rnn\n",
    "- build_nn\n",
    "- get_batches\n",
    "\n",
    "### Check the Version of TensorFlow and Access to GPU"
   ]
  },
  {
   "cell_type": "code",
   "execution_count": 8,
   "metadata": {
    "collapsed": false,
    "deletable": true,
    "editable": true
   },
   "outputs": [
    {
     "name": "stdout",
     "output_type": "stream",
     "text": [
      "TensorFlow Version: 1.0.1\n"
     ]
    },
    {
     "name": "stderr",
     "output_type": "stream",
     "text": [
      "C:\\Users\\Dell\\Anaconda3\\envs\\tensorflow-cpu\\lib\\site-packages\\ipykernel\\__main__.py:14: UserWarning: No GPU found. Please use a GPU to train your neural network.\n"
     ]
    }
   ],
   "source": [
    "\"\"\"\n",
    "DON'T MODIFY ANYTHING IN THIS CELL\n",
    "\"\"\"\n",
    "from distutils.version import LooseVersion\n",
    "import warnings\n",
    "import tensorflow as tf\n",
    "\n",
    "# Check TensorFlow Version\n",
    "assert LooseVersion(tf.__version__) >= LooseVersion('1.0'), 'Please use TensorFlow version 1.0 or newer'\n",
    "print('TensorFlow Version: {}'.format(tf.__version__))\n",
    "\n",
    "# Check for a GPU\n",
    "if not tf.test.gpu_device_name():\n",
    "    warnings.warn('No GPU found. Please use a GPU to train your neural network.')\n",
    "else:\n",
    "    print('Default GPU Device: {}'.format(tf.test.gpu_device_name()))"
   ]
  },
  {
   "cell_type": "markdown",
   "metadata": {
    "deletable": true,
    "editable": true
   },
   "source": [
    "### Input\n",
    "Implement the `get_inputs()` function to create TF Placeholders for the Neural Network.  It should create the following placeholders:\n",
    "- Input text placeholder named \"input\" using the [TF Placeholder](https://www.tensorflow.org/api_docs/python/tf/placeholder) `name` parameter.\n",
    "- Targets placeholder\n",
    "- Learning Rate placeholder\n",
    "\n",
    "Return the placeholders in the following the tuple `(Input, Targets, LearingRate)`"
   ]
  },
  {
   "cell_type": "code",
   "execution_count": 9,
   "metadata": {
    "collapsed": false,
    "deletable": true,
    "editable": true
   },
   "outputs": [
    {
     "name": "stdout",
     "output_type": "stream",
     "text": [
      "Call get_inputs: has_name_scope[0]\n",
      "Tests Passed\n"
     ]
    }
   ],
   "source": [
    "def get_inputs(has_name_scope=False):\n",
    "    \"\"\"\n",
    "    Create TF Placeholders for input, targets, and learning rate.\n",
    "    :return: Tuple (input, targets, learning rate)\n",
    "    \"\"\"\n",
    "    # TODO: Implement Function\n",
    "    print(\"Call get_inputs: has_name_scope[%d]\" % (has_name_scope))\n",
    "    if has_name_scope:\n",
    "        with tf.name_scope('Inputs'):\n",
    "            inputs = tf.placeholder(dtype=tf.int32,shape=[None,None],name=\"input\")\n",
    "        with tf.name_scope('Targets'):\n",
    "            targets = tf.placeholder(dtype=tf.int32,shape=[None,None],name=\"targets\")\n",
    "        with tf.name_scope('Learning_rate'):\n",
    "            learning_rate = tf.placeholder(dtype=tf.float32,name=\"learning_rate\")\n",
    "    else:\n",
    "        inputs = tf.placeholder(dtype=tf.int32,shape=[None,None],name=\"input\")\n",
    "        targets = tf.placeholder(dtype=tf.int32,shape=[None,None],name=\"targets\")\n",
    "        learning_rate = tf.placeholder(dtype=tf.float32,name=\"learning_rate\")\n",
    "    return (inputs, targets, learning_rate)\n",
    "\n",
    "\"\"\"\n",
    "DON'T MODIFY ANYTHING IN THIS CELL THAT IS BELOW THIS LINE\n",
    "\"\"\"\n",
    "tests.test_get_inputs(get_inputs)"
   ]
  },
  {
   "cell_type": "markdown",
   "metadata": {
    "deletable": true,
    "editable": true
   },
   "source": [
    "### Build RNN Cell and Initialize\n",
    "Stack one or more [`BasicLSTMCells`](https://www.tensorflow.org/api_docs/python/tf/contrib/rnn/BasicLSTMCell) in a [`MultiRNNCell`](https://www.tensorflow.org/api_docs/python/tf/contrib/rnn/MultiRNNCell).\n",
    "- The Rnn size should be set using `rnn_size`\n",
    "- Initalize Cell State using the MultiRNNCell's [`zero_state()`](https://www.tensorflow.org/api_docs/python/tf/contrib/rnn/MultiRNNCell#zero_state) function\n",
    "    - Apply the name \"initial_state\" to the initial state using [`tf.identity()`](https://www.tensorflow.org/api_docs/python/tf/identity)\n",
    "\n",
    "Return the cell and initial state in the following tuple `(Cell, InitialState)`"
   ]
  },
  {
   "cell_type": "code",
   "execution_count": 10,
   "metadata": {
    "collapsed": false,
    "deletable": true,
    "editable": true
   },
   "outputs": [
    {
     "name": "stdout",
     "output_type": "stream",
     "text": [
      "Call get_init_cell: rnn_size[256] lstm_layers[1] has_name_scope[0]\n",
      "Tests Passed\n"
     ]
    }
   ],
   "source": [
    "def get_init_cell(batch_size, rnn_size, lstm_layers=1, has_name_scope=False):\n",
    "    \"\"\"\n",
    "    Create an RNN Cell and initialize it.\n",
    "    :param batch_size: Size of batches\n",
    "    :param rnn_size: Size of RNNs\n",
    "    :return: Tuple (cell, initialize state)\n",
    "    \"\"\"\n",
    "    # TODO: Implement Function\n",
    "   # print(batch_size)\n",
    "    print(\"Call get_init_cell: rnn_size[%d] lstm_layers[%d] has_name_scope[%d]\" % \\\n",
    "          (rnn_size, lstm_layers, has_name_scope))\n",
    "    if has_name_scope:\n",
    "        with tf.name_scope('RNN_Layers'):\n",
    "            lstm = tf.contrib.rnn.BasicLSTMCell(rnn_size)\n",
    "            cell = tf.contrib.rnn.MultiRNNCell([lstm] * lstm_layers)\n",
    "        with tf.name_scope('RNN_init_state'):\n",
    "            initial_state = cell.zero_state(batch_size, tf.float32)\n",
    "            initial_state = tf.identity(initial_state,name=\"initial_state\")\n",
    "    else:\n",
    "        lstm = tf.contrib.rnn.BasicLSTMCell(rnn_size)\n",
    "        cell = tf.contrib.rnn.MultiRNNCell([lstm] * lstm_layers)\n",
    "        initial_state = cell.zero_state(batch_size, tf.float32)\n",
    "        initial_state = tf.identity(initial_state,name=\"initial_state\")\n",
    "    \n",
    "    return cell, initial_state\n",
    "\n",
    "\"\"\"\n",
    "DON'T MODIFY ANYTHING IN THIS CELL THAT IS BELOW THIS LINE\n",
    "\"\"\"\n",
    "tests.test_get_init_cell(get_init_cell)"
   ]
  },
  {
   "cell_type": "markdown",
   "metadata": {
    "deletable": true,
    "editable": true
   },
   "source": [
    "### Word Embedding\n",
    "Apply embedding to `input_data` using TensorFlow.  Return the embedded sequence."
   ]
  },
  {
   "cell_type": "code",
   "execution_count": 11,
   "metadata": {
    "collapsed": false,
    "deletable": true,
    "editable": true
   },
   "outputs": [
    {
     "name": "stdout",
     "output_type": "stream",
     "text": [
      "Call get_embed: vocab_size[27] embed_dim[256] has_name_scope[0]\n",
      "Tests Passed\n"
     ]
    }
   ],
   "source": [
    "def get_embed(input_data, vocab_size, embed_dim=100, has_name_scope=False):\n",
    "    \"\"\"\n",
    "    Create embedding for <input_data>.\n",
    "    :param input_data: TF placeholder for text input.\n",
    "    :param vocab_size: Number of words in vocabulary.\n",
    "    :param embed_dim: Number of embedding dimensions\n",
    "    :return: Embedded input.\n",
    "    \"\"\"\n",
    "    # TODO: Implement Function\n",
    "    print(\"Call get_embed: vocab_size[%d] embed_dim[%d] has_name_scope[%d]\" % \\\n",
    "          (vocab_size, embed_dim, has_name_scope))\n",
    "    embed_init = tf.truncated_normal(shape=[vocab_size,embed_dim],stddev=.1)\n",
    "    #  F_W = tf.Variable(xavier_init(shape_W, conv_input_size, conv_output_size))\n",
    "    if has_name_scope:\n",
    "        with tf.name_scope('Embedding'):\n",
    "            embedding = tf.Variable(embed_init)\n",
    "            embed = tf.nn.embedding_lookup(embedding,input_data, name=\"embedding\")\n",
    "    else:\n",
    "        embedding = tf.Variable(embed_init)\n",
    "        embed = tf.nn.embedding_lookup(embedding,input_data, name=\"embedding\")\n",
    "    return embed\n",
    "\n",
    "\n",
    "\"\"\"\n",
    "DON'T MODIFY ANYTHING IN THIS CELL THAT IS BELOW THIS LINE\n",
    "\"\"\"\n",
    "tests.test_get_embed(get_embed)"
   ]
  },
  {
   "cell_type": "markdown",
   "metadata": {
    "deletable": true,
    "editable": true
   },
   "source": [
    "### Build RNN\n",
    "You created a RNN Cell in the `get_init_cell()` function.  Time to use the cell to create a RNN.\n",
    "- Build the RNN using the [`tf.nn.dynamic_rnn()`](https://www.tensorflow.org/api_docs/python/tf/nn/dynamic_rnn)\n",
    " - Apply the name \"final_state\" to the final state using [`tf.identity()`](https://www.tensorflow.org/api_docs/python/tf/identity)\n",
    "\n",
    "Return the outputs and final_state state in the following tuple `(Outputs, FinalState)` "
   ]
  },
  {
   "cell_type": "code",
   "execution_count": 48,
   "metadata": {
    "collapsed": false,
    "deletable": true,
    "editable": true
   },
   "outputs": [
    {
     "name": "stdout",
     "output_type": "stream",
     "text": [
      "Call build_rnn: cell.state_size[(LSTMStateTuple(c=256, h=256), LSTMStateTuple(c=256, h=256))] cell.output_size[256] has_name_scope[0]\n",
      "final_state:0\n",
      "Tests Passed\n"
     ]
    }
   ],
   "source": [
    "def build_rnn(cell, inputs, has_name_scope=False):\n",
    "    \"\"\"\n",
    "    Create a RNN using a RNN Cell\n",
    "    :param cell: RNN Cell\n",
    "    :param inputs: Input text data\n",
    "    :return: Tuple (Outputs, Final State)\n",
    "    \"\"\"\n",
    "    # TODO: Implement Function\n",
    "    print(\"Call build_rnn: cell.state_size[%s] cell.output_size[%s] has_name_scope[%d]\" % \\\n",
    "          (cell.state_size, cell.output_size, has_name_scope))\n",
    "    if has_name_scope:\n",
    "        with tf.name_scope('RNN_forward'):\n",
    "            outputs, final_state = tf.nn.dynamic_rnn(cell, inputs, dtype=tf.float32)\n",
    "            final_state = tf.identity(final_state,name=\"final_state\")\n",
    "    else:\n",
    "        outputs, final_state = tf.nn.dynamic_rnn(cell, inputs, dtype=tf.float32)\n",
    "        final_state = tf.identity(final_state,name=\"final_state\")\n",
    "    return outputs, final_state\n",
    "\n",
    "\n",
    "\"\"\"\n",
    "DON'T MODIFY ANYTHING IN THIS CELL THAT IS BELOW THIS LINE\n",
    "\"\"\"\n",
    "tests.test_build_rnn(build_rnn)"
   ]
  },
  {
   "cell_type": "markdown",
   "metadata": {
    "deletable": true,
    "editable": true
   },
   "source": [
    "### Build the Neural Network\n",
    "Apply the functions you implemented above to:\n",
    "- Apply embedding to `input_data` using your `get_embed(input_data, vocab_size, embed_dim)` function.\n",
    "- Build RNN using `cell` and your `build_rnn(cell, inputs)` function.\n",
    "- Apply a fully connected layer with a linear activation and `vocab_size` as the number of outputs.\n",
    "\n",
    "Return the logits and final state in the following tuple (Logits, FinalState) "
   ]
  },
  {
   "cell_type": "code",
   "execution_count": 13,
   "metadata": {
    "collapsed": false,
    "deletable": true,
    "editable": true
   },
   "outputs": [
    {
     "name": "stdout",
     "output_type": "stream",
     "text": [
      "Call get_embed: vocab_size[27] embed_dim[100] has_name_scope[0]\n",
      "Call build_rnn: cell.state_size[(LSTMStateTuple(c=256, h=256), LSTMStateTuple(c=256, h=256))] cell.output_size[256] has_name_scope[0]\n",
      "build_nn: rnn_size=256 vocab_size=27 embed_dim=100\n",
      "build_nn: cell.state_size (LSTMStateTuple(c=256, h=256), LSTMStateTuple(c=256, h=256))\n",
      "build_nn: cell.output_size 256\n",
      "build_nn: input_data [128, 5]\n",
      "build_nn: embed [128, 5, 100]\n",
      "build_nn: rnn_outputs [128, 5, 256]\n",
      "build_nn: final_state [2, 2, None, 256]\n",
      "build_nn: predictions [128, 5, 27]\n",
      "Tests Passed\n"
     ]
    }
   ],
   "source": [
    "def build_nn(cell, rnn_size, input_data, vocab_size, embed_dim=100, has_name_scope=False):\n",
    "    \"\"\"\n",
    "    Build part of the neural network\n",
    "    :param cell: RNN cell\n",
    "    :param rnn_size: Size of rnns\n",
    "    :param input_data: Input data\n",
    "    :param vocab_size: Vocabulary size\n",
    "    :return: Tuple (Logits, FinalState)\n",
    "    \"\"\"\n",
    "    # TODO: Implement Function\n",
    "    embed = get_embed(input_data, vocab_size, embed_dim, has_name_scope=has_name_scope)\n",
    "    rnn_outputs, final_state = build_rnn(cell, embed, has_name_scope=has_name_scope)\n",
    "    if has_name_scope:\n",
    "        with tf.name_scope('Logits') as fc_scope:\n",
    "            predictions = tf.contrib.layers.fully_connected(inputs=rnn_outputs, num_outputs=vocab_size, activation_fn=None,\\\n",
    "                                                           weights_initializer=tf.contrib.layers.xavier_initializer(uniform=False))\n",
    "    else:\n",
    "        predictions = tf.contrib.layers.fully_connected(inputs=rnn_outputs, num_outputs=vocab_size, activation_fn=None,\\\n",
    "                                                       weights_initializer=tf.contrib.layers.xavier_initializer(uniform=False))\n",
    "\n",
    "    print(\"build_nn: rnn_size=%d vocab_size=%d embed_dim=%d\" % (rnn_size,vocab_size,embed_dim))\n",
    "    print(\"build_nn: cell.state_size\",cell.state_size)\n",
    "    print(\"build_nn: cell.output_size\",cell.output_size)\n",
    "    print(\"build_nn: input_data\",get_incoming_shape(input_data))\n",
    "    print(\"build_nn: embed\",get_incoming_shape(embed))\n",
    "    print(\"build_nn: rnn_outputs\",get_incoming_shape(rnn_outputs))\n",
    "    print(\"build_nn: final_state\",get_incoming_shape(final_state))\n",
    "    print(\"build_nn: predictions\",get_incoming_shape(predictions))\n",
    "    \n",
    "    if has_name_scope:\n",
    "        return predictions, final_state, fc_scope\n",
    "    else:\n",
    "        return predictions, final_state\n",
    "\n",
    "\n",
    "\"\"\"\n",
    "DON'T MODIFY ANYTHING IN THIS CELL THAT IS BELOW THIS LINE\n",
    "\"\"\"\n",
    "tests.test_build_nn(build_nn)"
   ]
  },
  {
   "cell_type": "markdown",
   "metadata": {
    "deletable": true,
    "editable": true
   },
   "source": [
    "### Batches\n",
    "Implement `get_batches` to create batches of input and targets using `int_text`.  The batches should be a Numpy array with the shape `(number of batches, 2, batch size, sequence length)`. Each batch contains two elements:\n",
    "- The first element is a single batch of **input** with the shape `[batch size, sequence length]`\n",
    "- The second element is a single batch of **targets** with the shape `[batch size, sequence length]`\n",
    "\n",
    "If you can't fill the last batch with enough data, drop the last batch.\n",
    "\n",
    "For exmple, `get_batches([1, 2, 3, 4, 5, 6, 7, 8, 9, 10, 11, 12, 13, 14, 15], 2, 3)` would return a Numpy array of the following:\n",
    "```\n",
    "[\n",
    "  # First Batch\n",
    "  [\n",
    "    # Batch of Input\n",
    "    [[ 1  2  3], [ 7  8  9]],\n",
    "    # Batch of targets\n",
    "    [[ 2  3  4], [ 8  9 10]]\n",
    "  ],\n",
    " \n",
    "  # Second Batch\n",
    "  [\n",
    "    # Batch of Input\n",
    "    [[ 4  5  6], [10 11 12]],\n",
    "    # Batch of targets\n",
    "    [[ 5  6  7], [11 12 13]]\n",
    "  ]\n",
    "]\n",
    "```"
   ]
  },
  {
   "cell_type": "code",
   "execution_count": 16,
   "metadata": {
    "collapsed": false,
    "deletable": true,
    "editable": true
   },
   "outputs": [
    {
     "name": "stdout",
     "output_type": "stream",
     "text": [
      "Call get_batches: text=5000 num_of_batch=7 batch_size=128 seq_length=5 slice_size=640 -> (7, 2, 128, 5)\n",
      "Tests Passed\n"
     ]
    }
   ],
   "source": [
    "def get_batches(int_text, batch_size, seq_length):\n",
    "    \"\"\"\n",
    "    Return batches of input and target\n",
    "    :param int_text: Text with the words replaced by their ids\n",
    "    :param batch_size: The size of batch\n",
    "    :param seq_length: The length of sequence\n",
    "    :return: Batches as a Numpy array\n",
    "    \"\"\"\n",
    "    # TODO: Implement Function\n",
    "    text_len = len(int_text)\n",
    "    slice_size = batch_size * seq_length\n",
    "    num_of_batch = text_len // slice_size\n",
    "    \n",
    "    # Drop the last few characters to make only full batches\n",
    "    x = np.asarray(int_text[: num_of_batch*slice_size])\n",
    "    y = np.asarray(int_text[1: num_of_batch*slice_size + 1])\n",
    "    x = np.stack(np.hsplit(np.stack(np.split(x,num_of_batch)),batch_size),axis=1)\n",
    "    y = np.stack(np.hsplit(np.stack(np.split(y,num_of_batch)),batch_size),axis=1)\n",
    "    r = np.stack((x,y),axis=1)\n",
    "    \n",
    "    print(\"Call get_batches: text=%d num_of_batch=%d batch_size=%d seq_length=%d slice_size=%d -> %s\" % \n",
    "          (text_len,num_of_batch,batch_size,seq_length,slice_size,r.shape))\n",
    "    \n",
    "    return r\n",
    "\n",
    "\n",
    "\"\"\"\n",
    "DON'T MODIFY ANYTHING IN THIS CELL THAT IS BELOW THIS LINE\n",
    "\"\"\"\n",
    "tests.test_get_batches(get_batches)"
   ]
  },
  {
   "cell_type": "markdown",
   "metadata": {
    "deletable": true,
    "editable": true
   },
   "source": [
    "## Neural Network Training\n",
    "### Hyperparameters\n",
    "Tune the following parameters:\n",
    "\n",
    "- Set `num_epochs` to the number of epochs.\n",
    "- Set `batch_size` to the batch size.\n",
    "- Set `rnn_size` to the size of the RNNs.\n",
    "- Set `seq_length` to the length of sequence.\n",
    "- Set `learning_rate` to the learning rate.\n",
    "- Set `show_every_n_batches` to the number of batches the neural network should print progress."
   ]
  },
  {
   "cell_type": "code",
   "execution_count": 17,
   "metadata": {
    "collapsed": false,
    "deletable": true,
    "editable": true
   },
   "outputs": [],
   "source": [
    "# Number of Epochs\n",
    "num_epochs = 256\n",
    "# Batch Size\n",
    "batch_size = 128\n",
    "# RNN Size\n",
    "rnn_size = 256\n",
    "# Sequence Length\n",
    "seq_length = 100\n",
    "# Learning Rate\n",
    "learning_rate = 0.01\n",
    "# Show stats for every n number of batches\n",
    "show_every_n_batches = 8\n",
    "\"\"\"\n",
    "DON'T MODIFY ANYTHING IN THIS CELL THAT IS BELOW THIS LINE\n",
    "\"\"\"\n",
    "save_dir = './save'"
   ]
  },
  {
   "cell_type": "markdown",
   "metadata": {
    "deletable": true,
    "editable": true
   },
   "source": [
    "### Build the Graph\n",
    "Build the graph using the neural network you implemented."
   ]
  },
  {
   "cell_type": "code",
   "execution_count": 69,
   "metadata": {
    "collapsed": false,
    "deletable": true,
    "editable": true,
    "scrolled": true
   },
   "outputs": [
    {
     "name": "stdout",
     "output_type": "stream",
     "text": [
      "Call get_inputs: has_name_scope[0]\n",
      "Call get_init_cell: rnn_size[256] lstm_layers[1] has_name_scope[0]\n",
      "Call get_embed: vocab_size[6779] embed_dim[100] has_name_scope[0]\n",
      "Call build_rnn: cell.state_size[(LSTMStateTuple(c=256, h=256),)] cell.output_size[256] has_name_scope[0]\n",
      "final_state:0\n",
      "build_nn: rnn_size=256 vocab_size=6779 embed_dim=100\n",
      "build_nn: cell.state_size (LSTMStateTuple(c=256, h=256),)\n",
      "build_nn: cell.output_size 256\n",
      "build_nn: input_data [None, None]\n",
      "build_nn: embed [None, None, 100]\n",
      "build_nn: rnn_outputs [None, None, 256]\n",
      "build_nn: final_state [1, 2, None, 256]\n",
      "build_nn: predictions [None, None, 6779]\n"
     ]
    }
   ],
   "source": [
    "\"\"\"\n",
    "DON'T MODIFY ANYTHING IN THIS CELL\n",
    "\"\"\"\n",
    "from tensorflow.contrib import seq2seq\n",
    "\n",
    "train_graph = tf.Graph()\n",
    "with train_graph.as_default():\n",
    "    vocab_size = len(int_to_vocab)\n",
    "    input_text, targets, lr = get_inputs()\n",
    "    input_data_shape = tf.shape(input_text)\n",
    "    cell, initial_state = get_init_cell(input_data_shape[0], rnn_size)\n",
    "    logits, final_state = build_nn(cell, rnn_size, input_text, vocab_size)\n",
    "\n",
    "    # Probabilities for generating words\n",
    "    probs = tf.nn.softmax(logits, name='probs')\n",
    "\n",
    "    # Loss function\n",
    "    cost = seq2seq.sequence_loss(\n",
    "        logits,\n",
    "        targets,\n",
    "        tf.ones([input_data_shape[0], input_data_shape[1]]))\n",
    "\n",
    "    # Optimizer\n",
    "    optimizer = tf.train.AdamOptimizer(lr)\n",
    "\n",
    "    # Gradient Clipping\n",
    "    gradients = optimizer.compute_gradients(cost)\n",
    "    capped_gradients = [(tf.clip_by_value(grad, -1., 1.), var) for grad, var in gradients]\n",
    "    train_op = optimizer.apply_gradients(capped_gradients)"
   ]
  },
  {
   "cell_type": "markdown",
   "metadata": {
    "deletable": true,
    "editable": true
   },
   "source": [
    "- get_inputs(has_name_scope=False)\n",
    "- get_init_cell(batch_size, rnn_size, lstm_layers=1, has_name_scope=False)\n",
    "- get_embed(input_data, vocab_size, embed_dim, has_name_scope=False)\n",
    "- build_rnn(cell, inputs, has_name_scope=False)\n",
    "- build_nn(cell, rnn_size, input_data, vocab_size, embed_dim=300, has_name_scope=False)\n",
    "- get_batches(int_text, batch_size, seq_length)"
   ]
  },
  {
   "cell_type": "code",
   "execution_count": 18,
   "metadata": {
    "collapsed": false,
    "deletable": true,
    "editable": true
   },
   "outputs": [],
   "source": [
    "from tensorflow.contrib import seq2seq\n",
    "\n",
    "def build_seq_network(vocab_size, lstm_layers=1, embed_dim=100, has_name_scope=False):\n",
    "    tf.reset_default_graph()\n",
    "    train_graph = tf.Graph()\n",
    "    with train_graph.as_default():\n",
    "        input_text, targets, lr = get_inputs(has_name_scope=has_name_scope)\n",
    "        input_data_shape = tf.shape(input_text)\n",
    "        cell, initial_state = get_init_cell(input_data_shape[0], rnn_size, lstm_layers, has_name_scope=has_name_scope)\n",
    "        logits, final_state, fc_scope = build_nn(cell, rnn_size, input_text, vocab_size, embed_dim, has_name_scope=has_name_scope)\n",
    "\n",
    "        # Probabilities for generating words\n",
    "        if has_name_scope:\n",
    "            with tf.name_scope(fc_scope):\n",
    "                probs = tf.nn.softmax(logits, name='probs')\n",
    "        else:\n",
    "            probs = tf.nn.softmax(logits, name='probs')\n",
    "\n",
    "        # Loss function\n",
    "        if has_name_scope:\n",
    "            with tf.name_scope('Cost'):\n",
    "                cost = seq2seq.sequence_loss(logits,targets,\n",
    "                    tf.ones([input_data_shape[0], input_data_shape[1]]),name=\"cost\")\n",
    "        else:\n",
    "            cost = seq2seq.sequence_loss(logits,targets,\n",
    "                tf.ones([input_data_shape[0], input_data_shape[1]]),name=\"cost\")\n",
    "\n",
    "        if has_name_scope:\n",
    "            with tf.name_scope('Optimizer'):\n",
    "                # Optimizer\n",
    "                optimizer = tf.train.AdamOptimizer(lr)\n",
    "                # Gradient Clipping\n",
    "                gradients = optimizer.compute_gradients(cost)\n",
    "                capped_gradients = [(tf.clip_by_value(grad, -1., 1.), var) for grad, var in gradients]\n",
    "                train_op = optimizer.apply_gradients(capped_gradients)\n",
    "        else:\n",
    "            # Optimizer\n",
    "            optimizer = tf.train.AdamOptimizer(lr)\n",
    "            # Gradient Clipping\n",
    "            gradients = optimizer.compute_gradients(cost)\n",
    "            capped_gradients = [(tf.clip_by_value(grad, -1., 1.), var) for grad, var in gradients]\n",
    "            train_op = optimizer.apply_gradients(capped_gradients)\n",
    "\n",
    "        return (train_graph, input_text, targets, lr, initial_state, final_state, cost, train_op)"
   ]
  },
  {
   "cell_type": "code",
   "execution_count": 21,
   "metadata": {
    "collapsed": false,
    "deletable": true,
    "editable": true
   },
   "outputs": [
    {
     "name": "stdout",
     "output_type": "stream",
     "text": [
      "Call get_inputs: has_name_scope[1]\n",
      "Call get_init_cell: rnn_size[256] lstm_layers[1] has_name_scope[1]\n",
      "Call get_embed: vocab_size[6779] embed_dim[100] has_name_scope[1]\n",
      "Call build_rnn: cell.state_size[(LSTMStateTuple(c=256, h=256),)] cell.output_size[256] has_name_scope[1]\n",
      "build_nn: rnn_size=256 vocab_size=6779 embed_dim=100\n",
      "build_nn: cell.state_size (LSTMStateTuple(c=256, h=256),)\n",
      "build_nn: cell.output_size 256\n",
      "build_nn: input_data [None, None]\n",
      "build_nn: embed [None, None, 100]\n",
      "build_nn: rnn_outputs [None, None, 256]\n",
      "build_nn: final_state [1, 2, None, 256]\n",
      "build_nn: predictions [None, None, 6779]\n",
      "<tensorflow.python.framework.ops.Graph object at 0x0000000010D73CF8>\n"
     ]
    }
   ],
   "source": [
    "vocab_size = len(int_to_vocab)\n",
    "train_graph, input_text, targets, lr, initial_state, final_state, cost, train_op = \\\n",
    "build_seq_network(vocab_size,lstm_layers=1,has_name_scope=True)\n",
    "with tf.Session(graph=train_graph) as sess:\n",
    "    print(sess.graph)\n",
    "    file_writer = tf.summary.FileWriter('./logs/1', sess.graph)"
   ]
  },
  {
   "cell_type": "markdown",
   "metadata": {
    "deletable": true,
    "editable": true
   },
   "source": [
    "## Train\n",
    "Train the neural network on the preprocessed data.  If you have a hard time getting a good loss, check the [forms](https://discussions.udacity.com/) to see if anyone is having the same problem."
   ]
  },
  {
   "cell_type": "code",
   "execution_count": 22,
   "metadata": {
    "collapsed": false,
    "deletable": true,
    "editable": true,
    "scrolled": true
   },
   "outputs": [
    {
     "name": "stdout",
     "output_type": "stream",
     "text": [
      "Call get_batches: text=69100 num_of_batch=5 batch_size=128 seq_length=100 slice_size=12800 -> (5, 2, 128, 100)\n",
      "Epoch   0 Batch    0/5   train_loss = 8.821\n",
      "Epoch   1 Batch    3/5   train_loss = 6.079\n",
      "Epoch   3 Batch    1/5   train_loss = 5.906\n",
      "Epoch   4 Batch    4/5   train_loss = 5.941\n",
      "Epoch   6 Batch    2/5   train_loss = 5.556\n",
      "Epoch   8 Batch    0/5   train_loss = 5.347\n",
      "Epoch   9 Batch    3/5   train_loss = 5.205\n",
      "Epoch  11 Batch    1/5   train_loss = 4.848\n",
      "Epoch  12 Batch    4/5   train_loss = 4.777\n",
      "Epoch  14 Batch    2/5   train_loss = 4.425\n",
      "Epoch  16 Batch    0/5   train_loss = 4.284\n",
      "Epoch  17 Batch    3/5   train_loss = 4.231\n",
      "Epoch  19 Batch    1/5   train_loss = 3.974\n",
      "Epoch  20 Batch    4/5   train_loss = 3.986\n",
      "Epoch  22 Batch    2/5   train_loss = 3.743\n",
      "Epoch  24 Batch    0/5   train_loss = 3.627\n",
      "Epoch  25 Batch    3/5   train_loss = 3.638\n",
      "Epoch  27 Batch    1/5   train_loss = 3.389\n",
      "Epoch  28 Batch    4/5   train_loss = 3.377\n",
      "Epoch  30 Batch    2/5   train_loss = 3.208\n",
      "Epoch  32 Batch    0/5   train_loss = 3.095\n",
      "Epoch  33 Batch    3/5   train_loss = 3.016\n",
      "Epoch  35 Batch    1/5   train_loss = 2.888\n",
      "Epoch  36 Batch    4/5   train_loss = 2.871\n",
      "Epoch  38 Batch    2/5   train_loss = 2.886\n",
      "Epoch  40 Batch    0/5   train_loss = 2.748\n",
      "Epoch  41 Batch    3/5   train_loss = 2.625\n",
      "Epoch  43 Batch    1/5   train_loss = 2.507\n",
      "Epoch  44 Batch    4/5   train_loss = 2.462\n",
      "Epoch  46 Batch    2/5   train_loss = 2.389\n",
      "Epoch  48 Batch    0/5   train_loss = 2.326\n",
      "Epoch  49 Batch    3/5   train_loss = 2.273\n",
      "Epoch  51 Batch    1/5   train_loss = 2.183\n",
      "Epoch  52 Batch    4/5   train_loss = 2.199\n",
      "Epoch  54 Batch    2/5   train_loss = 2.204\n",
      "Epoch  56 Batch    0/5   train_loss = 2.084\n",
      "Epoch  57 Batch    3/5   train_loss = 2.037\n",
      "Epoch  59 Batch    1/5   train_loss = 1.949\n",
      "Epoch  60 Batch    4/5   train_loss = 1.867\n",
      "Epoch  62 Batch    2/5   train_loss = 1.840\n",
      "Epoch  64 Batch    0/5   train_loss = 1.805\n",
      "Epoch  65 Batch    3/5   train_loss = 1.722\n",
      "Epoch  67 Batch    1/5   train_loss = 1.718\n",
      "Epoch  68 Batch    4/5   train_loss = 1.681\n",
      "Epoch  70 Batch    2/5   train_loss = 1.680\n",
      "Epoch  72 Batch    0/5   train_loss = 1.626\n",
      "Epoch  73 Batch    3/5   train_loss = 1.524\n",
      "Epoch  75 Batch    1/5   train_loss = 1.531\n",
      "Epoch  76 Batch    4/5   train_loss = 1.478\n",
      "Epoch  78 Batch    2/5   train_loss = 1.474\n",
      "Epoch  80 Batch    0/5   train_loss = 1.544\n",
      "Epoch  81 Batch    3/5   train_loss = 1.377\n",
      "Epoch  83 Batch    1/5   train_loss = 1.375\n",
      "Epoch  84 Batch    4/5   train_loss = 1.277\n",
      "Epoch  86 Batch    2/5   train_loss = 1.297\n",
      "Epoch  88 Batch    0/5   train_loss = 1.281\n",
      "Epoch  89 Batch    3/5   train_loss = 1.195\n",
      "Epoch  91 Batch    1/5   train_loss = 1.229\n",
      "Epoch  92 Batch    4/5   train_loss = 1.152\n",
      "Epoch  94 Batch    2/5   train_loss = 1.202\n",
      "Epoch  96 Batch    0/5   train_loss = 1.186\n",
      "Epoch  97 Batch    3/5   train_loss = 1.091\n",
      "Epoch  99 Batch    1/5   train_loss = 1.125\n",
      "Epoch 100 Batch    4/5   train_loss = 1.007\n",
      "Epoch 102 Batch    2/5   train_loss = 1.057\n",
      "Epoch 104 Batch    0/5   train_loss = 1.061\n",
      "Epoch 105 Batch    3/5   train_loss = 0.991\n",
      "Epoch 107 Batch    1/5   train_loss = 1.021\n",
      "Epoch 108 Batch    4/5   train_loss = 1.041\n",
      "Epoch 110 Batch    2/5   train_loss = 1.009\n",
      "Epoch 112 Batch    0/5   train_loss = 0.961\n",
      "Epoch 113 Batch    3/5   train_loss = 0.866\n",
      "Epoch 115 Batch    1/5   train_loss = 0.898\n",
      "Epoch 116 Batch    4/5   train_loss = 0.793\n",
      "Epoch 118 Batch    2/5   train_loss = 0.838\n",
      "Epoch 120 Batch    0/5   train_loss = 0.846\n",
      "Epoch 121 Batch    3/5   train_loss = 0.781\n",
      "Epoch 123 Batch    1/5   train_loss = 0.844\n",
      "Epoch 124 Batch    4/5   train_loss = 0.760\n",
      "Epoch 126 Batch    2/5   train_loss = 0.772\n",
      "Epoch 128 Batch    0/5   train_loss = 0.775\n",
      "Epoch 129 Batch    3/5   train_loss = 0.698\n",
      "Epoch 131 Batch    1/5   train_loss = 0.733\n",
      "Epoch 132 Batch    4/5   train_loss = 0.672\n",
      "Epoch 134 Batch    2/5   train_loss = 0.694\n",
      "Epoch 136 Batch    0/5   train_loss = 0.786\n",
      "Epoch 137 Batch    3/5   train_loss = 0.654\n",
      "Epoch 139 Batch    1/5   train_loss = 0.781\n",
      "Epoch 140 Batch    4/5   train_loss = 0.638\n",
      "Epoch 142 Batch    2/5   train_loss = 0.650\n",
      "Epoch 144 Batch    0/5   train_loss = 0.644\n",
      "Epoch 145 Batch    3/5   train_loss = 0.571\n",
      "Epoch 147 Batch    1/5   train_loss = 0.601\n",
      "Epoch 148 Batch    4/5   train_loss = 0.524\n",
      "Epoch 150 Batch    2/5   train_loss = 0.559\n",
      "Epoch 152 Batch    0/5   train_loss = 0.577\n",
      "Epoch 153 Batch    3/5   train_loss = 0.515\n",
      "Epoch 155 Batch    1/5   train_loss = 0.567\n",
      "Epoch 156 Batch    4/5   train_loss = 0.501\n",
      "Epoch 158 Batch    2/5   train_loss = 0.521\n",
      "Epoch 160 Batch    0/5   train_loss = 0.538\n",
      "Epoch 161 Batch    3/5   train_loss = 0.466\n",
      "Epoch 163 Batch    1/5   train_loss = 0.496\n",
      "Epoch 164 Batch    4/5   train_loss = 0.418\n",
      "Epoch 166 Batch    2/5   train_loss = 0.460\n",
      "Epoch 168 Batch    0/5   train_loss = 0.458\n",
      "Epoch 169 Batch    3/5   train_loss = 0.438\n",
      "Epoch 171 Batch    1/5   train_loss = 0.456\n",
      "Epoch 172 Batch    4/5   train_loss = 0.427\n",
      "Epoch 174 Batch    2/5   train_loss = 0.444\n",
      "Epoch 176 Batch    0/5   train_loss = 0.514\n",
      "Epoch 177 Batch    3/5   train_loss = 0.461\n",
      "Epoch 179 Batch    1/5   train_loss = 0.465\n",
      "Epoch 180 Batch    4/5   train_loss = 0.389\n",
      "Epoch 182 Batch    2/5   train_loss = 0.410\n",
      "Epoch 184 Batch    0/5   train_loss = 0.388\n",
      "Epoch 185 Batch    3/5   train_loss = 0.347\n",
      "Epoch 187 Batch    1/5   train_loss = 0.356\n",
      "Epoch 188 Batch    4/5   train_loss = 0.305\n",
      "Epoch 190 Batch    2/5   train_loss = 0.328\n",
      "Epoch 192 Batch    0/5   train_loss = 0.343\n",
      "Epoch 193 Batch    3/5   train_loss = 0.305\n",
      "Epoch 195 Batch    1/5   train_loss = 0.342\n",
      "Epoch 196 Batch    4/5   train_loss = 0.288\n",
      "Epoch 198 Batch    2/5   train_loss = 0.329\n",
      "Epoch 200 Batch    0/5   train_loss = 0.311\n",
      "Epoch 201 Batch    3/5   train_loss = 0.293\n",
      "Epoch 203 Batch    1/5   train_loss = 0.295\n",
      "Epoch 204 Batch    4/5   train_loss = 0.260\n",
      "Epoch 206 Batch    2/5   train_loss = 0.277\n",
      "Epoch 208 Batch    0/5   train_loss = 0.303\n",
      "Epoch 209 Batch    3/5   train_loss = 0.274\n",
      "Epoch 211 Batch    1/5   train_loss = 0.311\n",
      "Epoch 212 Batch    4/5   train_loss = 0.265\n",
      "Epoch 214 Batch    2/5   train_loss = 0.302\n",
      "Epoch 216 Batch    0/5   train_loss = 0.301\n",
      "Epoch 217 Batch    3/5   train_loss = 0.264\n",
      "Epoch 219 Batch    1/5   train_loss = 0.261\n",
      "Epoch 220 Batch    4/5   train_loss = 0.215\n",
      "Epoch 222 Batch    2/5   train_loss = 0.226\n",
      "Epoch 224 Batch    0/5   train_loss = 0.229\n",
      "Epoch 225 Batch    3/5   train_loss = 0.208\n",
      "Epoch 227 Batch    1/5   train_loss = 0.215\n",
      "Epoch 228 Batch    4/5   train_loss = 0.191\n",
      "Epoch 230 Batch    2/5   train_loss = 0.201\n",
      "Epoch 232 Batch    0/5   train_loss = 0.205\n",
      "Epoch 233 Batch    3/5   train_loss = 0.197\n",
      "Epoch 235 Batch    1/5   train_loss = 0.203\n",
      "Epoch 236 Batch    4/5   train_loss = 0.170\n",
      "Epoch 238 Batch    2/5   train_loss = 0.187\n",
      "Epoch 240 Batch    0/5   train_loss = 0.188\n",
      "Epoch 241 Batch    3/5   train_loss = 0.184\n",
      "Epoch 243 Batch    1/5   train_loss = 0.180\n",
      "Epoch 244 Batch    4/5   train_loss = 0.163\n",
      "Epoch 246 Batch    2/5   train_loss = 0.182\n",
      "Epoch 248 Batch    0/5   train_loss = 0.183\n",
      "Epoch 249 Batch    3/5   train_loss = 0.206\n",
      "Epoch 251 Batch    1/5   train_loss = 0.176\n",
      "Epoch 252 Batch    4/5   train_loss = 0.198\n",
      "Epoch 254 Batch    2/5   train_loss = 0.197\n",
      "Model Trained and Saved\n"
     ]
    }
   ],
   "source": [
    "\"\"\"\n",
    "DON'T MODIFY ANYTHING IN THIS CELL\n",
    "\"\"\"\n",
    "batches = get_batches(int_text, batch_size, seq_length)\n",
    "\n",
    "with tf.Session(graph=train_graph) as sess:\n",
    "    sess.run(tf.global_variables_initializer())\n",
    "\n",
    "    for epoch_i in range(num_epochs):\n",
    "        state = sess.run(initial_state, {input_text: batches[0][0]})\n",
    "\n",
    "        for batch_i, (x, y) in enumerate(batches):\n",
    "            feed = {\n",
    "                input_text: x,\n",
    "                targets: y,\n",
    "                initial_state: state,\n",
    "                lr: learning_rate}\n",
    "            train_loss, state, _ = sess.run([cost, final_state, train_op], feed)\n",
    "\n",
    "            # Show every <show_every_n_batches> batches\n",
    "            if (epoch_i * len(batches) + batch_i) % show_every_n_batches == 0:\n",
    "                print('Epoch {:>3} Batch {:>4}/{}   train_loss = {:.3f}'.format(\n",
    "                    epoch_i,\n",
    "                    batch_i,\n",
    "                    len(batches),\n",
    "                    train_loss))\n",
    "\n",
    "    # Save Model\n",
    "    saver = tf.train.Saver()\n",
    "    saver.save(sess, save_dir)\n",
    "    print('Model Trained and Saved')"
   ]
  },
  {
   "cell_type": "markdown",
   "metadata": {
    "deletable": true,
    "editable": true
   },
   "source": [
    "## Save Parameters\n",
    "Save `seq_length` and `save_dir` for generating a new TV script."
   ]
  },
  {
   "cell_type": "code",
   "execution_count": 23,
   "metadata": {
    "collapsed": false,
    "deletable": true,
    "editable": true
   },
   "outputs": [],
   "source": [
    "\"\"\"\n",
    "DON'T MODIFY ANYTHING IN THIS CELL\n",
    "\"\"\"\n",
    "# Save parameters for checkpoint\n",
    "helper.save_params((seq_length, save_dir))"
   ]
  },
  {
   "cell_type": "markdown",
   "metadata": {
    "deletable": true,
    "editable": true
   },
   "source": [
    "# Checkpoint"
   ]
  },
  {
   "cell_type": "code",
   "execution_count": 82,
   "metadata": {
    "collapsed": false,
    "deletable": true,
    "editable": true
   },
   "outputs": [
    {
     "name": "stdout",
     "output_type": "stream",
     "text": [
      "./save\n",
      "./save\n"
     ]
    }
   ],
   "source": [
    "\"\"\"\n",
    "DON'T MODIFY ANYTHING IN THIS CELL\n",
    "\"\"\"\n",
    "import tensorflow as tf\n",
    "import numpy as np\n",
    "import helper\n",
    "import problem_unittests as tests\n",
    "\n",
    "_, vocab_to_int, int_to_vocab, token_dict = helper.load_preprocess()\n",
    "seq_length, load_dir = helper.load_params()\n",
    "print(load_dir)\n",
    "print(save_dir)"
   ]
  },
  {
   "cell_type": "markdown",
   "metadata": {
    "deletable": true,
    "editable": true
   },
   "source": [
    "## Implement Generate Functions\n",
    "### Get Tensors\n",
    "Get tensors from `loaded_graph` using the function [`get_tensor_by_name()`](https://www.tensorflow.org/api_docs/python/tf/Graph#get_tensor_by_name).  Get the tensors using the following names:\n",
    "- \"input:0\"\n",
    "- \"initial_state:0\"\n",
    "- \"final_state:0\"\n",
    "- \"probs:0\"\n",
    "\n",
    "Return the tensors in the following tuple `(InputTensor, InitialStateTensor, FinalStateTensor, ProbsTensor)` "
   ]
  },
  {
   "cell_type": "code",
   "execution_count": 55,
   "metadata": {
    "collapsed": false,
    "deletable": true,
    "editable": true
   },
   "outputs": [
    {
     "name": "stdout",
     "output_type": "stream",
     "text": [
      "Tests Passed\n"
     ]
    }
   ],
   "source": [
    "def get_tensors(loaded_graph, has_name_scope=False):\n",
    "    \"\"\"\n",
    "    Get input, initial state, final state, and probabilities tensor from <loaded_graph>\n",
    "    :param loaded_graph: TensorFlow graph loaded from file\n",
    "    :return: Tuple (InputTensor, InitialStateTensor, FinalStateTensor, ProbsTensor)\n",
    "    \"\"\"\n",
    "    # TODO: Implement Function\n",
    "    if has_name_scope:\n",
    "        inputs = loaded_graph.get_tensor_by_name(\"Inputs/input:0\")\n",
    "        initial_state = loaded_graph.get_tensor_by_name(\"RNN_init_state/initial_state:0\") \n",
    "        final_state = loaded_graph.get_tensor_by_name(\"RNN_forward/final_state:0\") \n",
    "        probs = loaded_graph.get_tensor_by_name(\"Logits/probs:0\")\n",
    "    else:\n",
    "        inputs = loaded_graph.get_tensor_by_name(\"input:0\")\n",
    "        initial_state = loaded_graph.get_tensor_by_name(\"initial_state:0\") \n",
    "        final_state = loaded_graph.get_tensor_by_name(\"final_state:0\") \n",
    "        probs = loaded_graph.get_tensor_by_name(\"probs:0\")\n",
    "    \n",
    "    return  (inputs, initial_state, final_state, probs)\n",
    "\n",
    "\n",
    "\"\"\"\n",
    "DON'T MODIFY ANYTHING IN THIS CELL THAT IS BELOW THIS LINE\n",
    "\"\"\"\n",
    "tests.test_get_tensors(get_tensors)\n"
   ]
  },
  {
   "cell_type": "markdown",
   "metadata": {
    "deletable": true,
    "editable": true
   },
   "source": [
    "### Choose Word\n",
    "Implement the `pick_word()` function to select the next word using `probabilities`."
   ]
  },
  {
   "cell_type": "code",
   "execution_count": 56,
   "metadata": {
    "collapsed": false,
    "deletable": true,
    "editable": true
   },
   "outputs": [
    {
     "name": "stdout",
     "output_type": "stream",
     "text": [
      "Tests Passed\n"
     ]
    }
   ],
   "source": [
    "def pick_word(probabilities, int_to_vocab):\n",
    "    \"\"\"\n",
    "    Pick the next word in the generated text\n",
    "    :param probabilities: Probabilites of the next word\n",
    "    :param int_to_vocab: Dictionary of word ids as the keys and words as the values\n",
    "    :return: String of the predicted word\n",
    "    \"\"\"\n",
    "    # TODO: Implement Function\n",
    "    word_int = np.random.choice(len(int_to_vocab.keys()), p=probabilities)\n",
    "    return int_to_vocab[word_int]\n",
    "\n",
    "\n",
    "\"\"\"\n",
    "DON'T MODIFY ANYTHING IN THIS CELL THAT IS BELOW THIS LINE\n",
    "\"\"\"\n",
    "tests.test_pick_word(pick_word)"
   ]
  },
  {
   "cell_type": "markdown",
   "metadata": {
    "deletable": true,
    "editable": true
   },
   "source": [
    "## Generate TV Script\n",
    "This will generate the TV script for you.  Set `gen_length` to the length of TV script you want to generate."
   ]
  },
  {
   "cell_type": "code",
   "execution_count": 78,
   "metadata": {
    "collapsed": false
   },
   "outputs": [
    {
     "ename": "KeyError",
     "evalue": "\"The name 'Inputs/input:0' refers to a Tensor which does not exist. The operation, 'Inputs/input', does not exist in the graph.\"",
     "output_type": "error",
     "traceback": [
      "\u001b[1;31m---------------------------------------------------------------------------\u001b[0m",
      "\u001b[1;31mKeyError\u001b[0m                                  Traceback (most recent call last)",
      "\u001b[1;32m<ipython-input-78-4e37ce3721ec>\u001b[0m in \u001b[0;36m<module>\u001b[1;34m()\u001b[0m\n\u001b[0;32m      3\u001b[0m \u001b[1;31m# build_seq_network(vocab_size,lstm_layers=1,has_name_scope=False)\u001b[0m\u001b[1;33m\u001b[0m\u001b[1;33m\u001b[0m\u001b[0m\n\u001b[0;32m      4\u001b[0m \u001b[0mloaded_graph\u001b[0m \u001b[1;33m=\u001b[0m \u001b[0mtf\u001b[0m\u001b[1;33m.\u001b[0m\u001b[0mGraph\u001b[0m\u001b[1;33m(\u001b[0m\u001b[1;33m)\u001b[0m\u001b[1;33m\u001b[0m\u001b[0m\n\u001b[1;32m----> 5\u001b[1;33m \u001b[0mget_tensors\u001b[0m\u001b[1;33m(\u001b[0m\u001b[0mloaded_graph\u001b[0m\u001b[1;33m,\u001b[0m\u001b[1;32mTrue\u001b[0m\u001b[1;33m)\u001b[0m\u001b[1;33m\u001b[0m\u001b[0m\n\u001b[0m",
      "\u001b[1;32m<ipython-input-55-64fa08eb9069>\u001b[0m in \u001b[0;36mget_tensors\u001b[1;34m(loaded_graph, has_name_scope)\u001b[0m\n\u001b[0;32m      7\u001b[0m     \u001b[1;31m# TODO: Implement Function\u001b[0m\u001b[1;33m\u001b[0m\u001b[1;33m\u001b[0m\u001b[0m\n\u001b[0;32m      8\u001b[0m     \u001b[1;32mif\u001b[0m \u001b[0mhas_name_scope\u001b[0m\u001b[1;33m:\u001b[0m\u001b[1;33m\u001b[0m\u001b[0m\n\u001b[1;32m----> 9\u001b[1;33m         \u001b[0minputs\u001b[0m \u001b[1;33m=\u001b[0m \u001b[0mloaded_graph\u001b[0m\u001b[1;33m.\u001b[0m\u001b[0mget_tensor_by_name\u001b[0m\u001b[1;33m(\u001b[0m\u001b[1;34m\"Inputs/input:0\"\u001b[0m\u001b[1;33m)\u001b[0m\u001b[1;33m\u001b[0m\u001b[0m\n\u001b[0m\u001b[0;32m     10\u001b[0m         \u001b[0minitial_state\u001b[0m \u001b[1;33m=\u001b[0m \u001b[0mloaded_graph\u001b[0m\u001b[1;33m.\u001b[0m\u001b[0mget_tensor_by_name\u001b[0m\u001b[1;33m(\u001b[0m\u001b[1;34m\"RNN_init_state/initial_state:0\"\u001b[0m\u001b[1;33m)\u001b[0m\u001b[1;33m\u001b[0m\u001b[0m\n\u001b[0;32m     11\u001b[0m         \u001b[0mfinal_state\u001b[0m \u001b[1;33m=\u001b[0m \u001b[0mloaded_graph\u001b[0m\u001b[1;33m.\u001b[0m\u001b[0mget_tensor_by_name\u001b[0m\u001b[1;33m(\u001b[0m\u001b[1;34m\"RNN_forward/final_state:0\"\u001b[0m\u001b[1;33m)\u001b[0m\u001b[1;33m\u001b[0m\u001b[0m\n",
      "\u001b[1;32mC:\\Users\\Dell\\Anaconda3\\envs\\tensorflow-cpu\\lib\\site-packages\\tensorflow\\python\\framework\\ops.py\u001b[0m in \u001b[0;36mget_tensor_by_name\u001b[1;34m(self, name)\u001b[0m\n\u001b[0;32m   2552\u001b[0m       raise TypeError(\"Tensor names are strings (or similar), not %s.\"\n\u001b[0;32m   2553\u001b[0m                       % type(name).__name__)\n\u001b[1;32m-> 2554\u001b[1;33m     \u001b[1;32mreturn\u001b[0m \u001b[0mself\u001b[0m\u001b[1;33m.\u001b[0m\u001b[0mas_graph_element\u001b[0m\u001b[1;33m(\u001b[0m\u001b[0mname\u001b[0m\u001b[1;33m,\u001b[0m \u001b[0mallow_tensor\u001b[0m\u001b[1;33m=\u001b[0m\u001b[1;32mTrue\u001b[0m\u001b[1;33m,\u001b[0m \u001b[0mallow_operation\u001b[0m\u001b[1;33m=\u001b[0m\u001b[1;32mFalse\u001b[0m\u001b[1;33m)\u001b[0m\u001b[1;33m\u001b[0m\u001b[0m\n\u001b[0m\u001b[0;32m   2555\u001b[0m \u001b[1;33m\u001b[0m\u001b[0m\n\u001b[0;32m   2556\u001b[0m   \u001b[1;32mdef\u001b[0m \u001b[0m_next_id\u001b[0m\u001b[1;33m(\u001b[0m\u001b[0mself\u001b[0m\u001b[1;33m)\u001b[0m\u001b[1;33m:\u001b[0m\u001b[1;33m\u001b[0m\u001b[0m\n",
      "\u001b[1;32mC:\\Users\\Dell\\Anaconda3\\envs\\tensorflow-cpu\\lib\\site-packages\\tensorflow\\python\\framework\\ops.py\u001b[0m in \u001b[0;36mas_graph_element\u001b[1;34m(self, obj, allow_tensor, allow_operation)\u001b[0m\n\u001b[0;32m   2403\u001b[0m \u001b[1;33m\u001b[0m\u001b[0m\n\u001b[0;32m   2404\u001b[0m     \u001b[1;32mwith\u001b[0m \u001b[0mself\u001b[0m\u001b[1;33m.\u001b[0m\u001b[0m_lock\u001b[0m\u001b[1;33m:\u001b[0m\u001b[1;33m\u001b[0m\u001b[0m\n\u001b[1;32m-> 2405\u001b[1;33m       \u001b[1;32mreturn\u001b[0m \u001b[0mself\u001b[0m\u001b[1;33m.\u001b[0m\u001b[0m_as_graph_element_locked\u001b[0m\u001b[1;33m(\u001b[0m\u001b[0mobj\u001b[0m\u001b[1;33m,\u001b[0m \u001b[0mallow_tensor\u001b[0m\u001b[1;33m,\u001b[0m \u001b[0mallow_operation\u001b[0m\u001b[1;33m)\u001b[0m\u001b[1;33m\u001b[0m\u001b[0m\n\u001b[0m\u001b[0;32m   2406\u001b[0m \u001b[1;33m\u001b[0m\u001b[0m\n\u001b[0;32m   2407\u001b[0m   \u001b[1;32mdef\u001b[0m \u001b[0m_as_graph_element_locked\u001b[0m\u001b[1;33m(\u001b[0m\u001b[0mself\u001b[0m\u001b[1;33m,\u001b[0m \u001b[0mobj\u001b[0m\u001b[1;33m,\u001b[0m \u001b[0mallow_tensor\u001b[0m\u001b[1;33m,\u001b[0m \u001b[0mallow_operation\u001b[0m\u001b[1;33m)\u001b[0m\u001b[1;33m:\u001b[0m\u001b[1;33m\u001b[0m\u001b[0m\n",
      "\u001b[1;32mC:\\Users\\Dell\\Anaconda3\\envs\\tensorflow-cpu\\lib\\site-packages\\tensorflow\\python\\framework\\ops.py\u001b[0m in \u001b[0;36m_as_graph_element_locked\u001b[1;34m(self, obj, allow_tensor, allow_operation)\u001b[0m\n\u001b[0;32m   2445\u001b[0m           raise KeyError(\"The name %s refers to a Tensor which does not \"\n\u001b[0;32m   2446\u001b[0m                          \u001b[1;34m\"exist. The operation, %s, does not exist in the \"\u001b[0m\u001b[1;33m\u001b[0m\u001b[0m\n\u001b[1;32m-> 2447\u001b[1;33m                          \"graph.\" % (repr(name), repr(op_name)))\n\u001b[0m\u001b[0;32m   2448\u001b[0m         \u001b[1;32mtry\u001b[0m\u001b[1;33m:\u001b[0m\u001b[1;33m\u001b[0m\u001b[0m\n\u001b[0;32m   2449\u001b[0m           \u001b[1;32mreturn\u001b[0m \u001b[0mop\u001b[0m\u001b[1;33m.\u001b[0m\u001b[0moutputs\u001b[0m\u001b[1;33m[\u001b[0m\u001b[0mout_n\u001b[0m\u001b[1;33m]\u001b[0m\u001b[1;33m\u001b[0m\u001b[0m\n",
      "\u001b[1;31mKeyError\u001b[0m: \"The name 'Inputs/input:0' refers to a Tensor which does not exist. The operation, 'Inputs/input', does not exist in the graph.\""
     ]
    }
   ],
   "source": [
    "# vocab_size = len(int_to_vocab)\n",
    "# loaded_graph, input_text, targets, lr, initial_state, final_state, cost, train_op = \\\n",
    "# build_seq_network(vocab_size,lstm_layers=1,has_name_scope=False)\n",
    "loaded_graph = tf.Graph()\n",
    "get_tensors(loaded_graph,True)"
   ]
  },
  {
   "cell_type": "code",
   "execution_count": 79,
   "metadata": {
    "collapsed": false,
    "deletable": true,
    "editable": true,
    "scrolled": false
   },
   "outputs": [
    {
     "ename": "FailedPreconditionError",
     "evalue": "Attempting to use uninitialized value Variable\n\t [[Node: Variable/read = Identity[T=DT_FLOAT, _class=[\"loc:@Variable\"], _device=\"/job:localhost/replica:0/task:0/cpu:0\"](Variable)]]\n\nCaused by op 'Variable/read', defined at:\n  File \"C:\\Users\\Dell\\Anaconda3\\envs\\tensorflow-cpu\\lib\\runpy.py\", line 193, in _run_module_as_main\n    \"__main__\", mod_spec)\n  File \"C:\\Users\\Dell\\Anaconda3\\envs\\tensorflow-cpu\\lib\\runpy.py\", line 85, in _run_code\n    exec(code, run_globals)\n  File \"C:\\Users\\Dell\\Anaconda3\\envs\\tensorflow-cpu\\lib\\site-packages\\ipykernel\\__main__.py\", line 3, in <module>\n    app.launch_new_instance()\n  File \"C:\\Users\\Dell\\Anaconda3\\envs\\tensorflow-cpu\\lib\\site-packages\\traitlets\\config\\application.py\", line 658, in launch_instance\n    app.start()\n  File \"C:\\Users\\Dell\\Anaconda3\\envs\\tensorflow-cpu\\lib\\site-packages\\ipykernel\\kernelapp.py\", line 474, in start\n    ioloop.IOLoop.instance().start()\n  File \"C:\\Users\\Dell\\Anaconda3\\envs\\tensorflow-cpu\\lib\\site-packages\\zmq\\eventloop\\ioloop.py\", line 177, in start\n    super(ZMQIOLoop, self).start()\n  File \"C:\\Users\\Dell\\Anaconda3\\envs\\tensorflow-cpu\\lib\\site-packages\\tornado\\ioloop.py\", line 887, in start\n    handler_func(fd_obj, events)\n  File \"C:\\Users\\Dell\\Anaconda3\\envs\\tensorflow-cpu\\lib\\site-packages\\tornado\\stack_context.py\", line 275, in null_wrapper\n    return fn(*args, **kwargs)\n  File \"C:\\Users\\Dell\\Anaconda3\\envs\\tensorflow-cpu\\lib\\site-packages\\zmq\\eventloop\\zmqstream.py\", line 440, in _handle_events\n    self._handle_recv()\n  File \"C:\\Users\\Dell\\Anaconda3\\envs\\tensorflow-cpu\\lib\\site-packages\\zmq\\eventloop\\zmqstream.py\", line 472, in _handle_recv\n    self._run_callback(callback, msg)\n  File \"C:\\Users\\Dell\\Anaconda3\\envs\\tensorflow-cpu\\lib\\site-packages\\zmq\\eventloop\\zmqstream.py\", line 414, in _run_callback\n    callback(*args, **kwargs)\n  File \"C:\\Users\\Dell\\Anaconda3\\envs\\tensorflow-cpu\\lib\\site-packages\\tornado\\stack_context.py\", line 275, in null_wrapper\n    return fn(*args, **kwargs)\n  File \"C:\\Users\\Dell\\Anaconda3\\envs\\tensorflow-cpu\\lib\\site-packages\\ipykernel\\kernelbase.py\", line 276, in dispatcher\n    return self.dispatch_shell(stream, msg)\n  File \"C:\\Users\\Dell\\Anaconda3\\envs\\tensorflow-cpu\\lib\\site-packages\\ipykernel\\kernelbase.py\", line 228, in dispatch_shell\n    handler(stream, idents, msg)\n  File \"C:\\Users\\Dell\\Anaconda3\\envs\\tensorflow-cpu\\lib\\site-packages\\ipykernel\\kernelbase.py\", line 390, in execute_request\n    user_expressions, allow_stdin)\n  File \"C:\\Users\\Dell\\Anaconda3\\envs\\tensorflow-cpu\\lib\\site-packages\\ipykernel\\ipkernel.py\", line 196, in do_execute\n    res = shell.run_cell(code, store_history=store_history, silent=silent)\n  File \"C:\\Users\\Dell\\Anaconda3\\envs\\tensorflow-cpu\\lib\\site-packages\\ipykernel\\zmqshell.py\", line 501, in run_cell\n    return super(ZMQInteractiveShell, self).run_cell(*args, **kwargs)\n  File \"C:\\Users\\Dell\\Anaconda3\\envs\\tensorflow-cpu\\lib\\site-packages\\IPython\\core\\interactiveshell.py\", line 2717, in run_cell\n    interactivity=interactivity, compiler=compiler, result=result)\n  File \"C:\\Users\\Dell\\Anaconda3\\envs\\tensorflow-cpu\\lib\\site-packages\\IPython\\core\\interactiveshell.py\", line 2821, in run_ast_nodes\n    if self.run_code(code, result):\n  File \"C:\\Users\\Dell\\Anaconda3\\envs\\tensorflow-cpu\\lib\\site-packages\\IPython\\core\\interactiveshell.py\", line 2881, in run_code\n    exec(code_obj, self.user_global_ns, self.user_ns)\n  File \"<ipython-input-69-33f70c17d6c6>\", line 12, in <module>\n    logits, final_state = build_nn(cell, rnn_size, input_text, vocab_size)\n  File \"<ipython-input-13-a2ea0e439504>\", line 11, in build_nn\n    embed = get_embed(input_data, vocab_size, embed_dim, has_name_scope=has_name_scope)\n  File \"<ipython-input-11-ac35f1ca8e3f>\", line 18, in get_embed\n    embedding = tf.Variable(embed_init)\n  File \"C:\\Users\\Dell\\Anaconda3\\envs\\tensorflow-cpu\\lib\\site-packages\\tensorflow\\python\\ops\\variables.py\", line 197, in __init__\n    expected_shape=expected_shape)\n  File \"C:\\Users\\Dell\\Anaconda3\\envs\\tensorflow-cpu\\lib\\site-packages\\tensorflow\\python\\ops\\variables.py\", line 315, in _init_from_args\n    self._snapshot = array_ops.identity(self._variable, name=\"read\")\n  File \"C:\\Users\\Dell\\Anaconda3\\envs\\tensorflow-cpu\\lib\\site-packages\\tensorflow\\python\\ops\\gen_array_ops.py\", line 1490, in identity\n    result = _op_def_lib.apply_op(\"Identity\", input=input, name=name)\n  File \"C:\\Users\\Dell\\Anaconda3\\envs\\tensorflow-cpu\\lib\\site-packages\\tensorflow\\python\\framework\\op_def_library.py\", line 763, in apply_op\n    op_def=op_def)\n  File \"C:\\Users\\Dell\\Anaconda3\\envs\\tensorflow-cpu\\lib\\site-packages\\tensorflow\\python\\framework\\ops.py\", line 2327, in create_op\n    original_op=self._default_original_op, op_def=op_def)\n  File \"C:\\Users\\Dell\\Anaconda3\\envs\\tensorflow-cpu\\lib\\site-packages\\tensorflow\\python\\framework\\ops.py\", line 1226, in __init__\n    self._traceback = _extract_stack()\n\nFailedPreconditionError (see above for traceback): Attempting to use uninitialized value Variable\n\t [[Node: Variable/read = Identity[T=DT_FLOAT, _class=[\"loc:@Variable\"], _device=\"/job:localhost/replica:0/task:0/cpu:0\"](Variable)]]\n",
     "output_type": "error",
     "traceback": [
      "\u001b[1;31m---------------------------------------------------------------------------\u001b[0m",
      "\u001b[1;31mFailedPreconditionError\u001b[0m                   Traceback (most recent call last)",
      "\u001b[1;32mC:\\Users\\Dell\\Anaconda3\\envs\\tensorflow-cpu\\lib\\site-packages\\tensorflow\\python\\client\\session.py\u001b[0m in \u001b[0;36m_do_call\u001b[1;34m(self, fn, *args)\u001b[0m\n\u001b[0;32m   1021\u001b[0m     \u001b[1;32mtry\u001b[0m\u001b[1;33m:\u001b[0m\u001b[1;33m\u001b[0m\u001b[0m\n\u001b[1;32m-> 1022\u001b[1;33m       \u001b[1;32mreturn\u001b[0m \u001b[0mfn\u001b[0m\u001b[1;33m(\u001b[0m\u001b[1;33m*\u001b[0m\u001b[0margs\u001b[0m\u001b[1;33m)\u001b[0m\u001b[1;33m\u001b[0m\u001b[0m\n\u001b[0m\u001b[0;32m   1023\u001b[0m     \u001b[1;32mexcept\u001b[0m \u001b[0merrors\u001b[0m\u001b[1;33m.\u001b[0m\u001b[0mOpError\u001b[0m \u001b[1;32mas\u001b[0m \u001b[0me\u001b[0m\u001b[1;33m:\u001b[0m\u001b[1;33m\u001b[0m\u001b[0m\n",
      "\u001b[1;32mC:\\Users\\Dell\\Anaconda3\\envs\\tensorflow-cpu\\lib\\site-packages\\tensorflow\\python\\client\\session.py\u001b[0m in \u001b[0;36m_run_fn\u001b[1;34m(session, feed_dict, fetch_list, target_list, options, run_metadata)\u001b[0m\n\u001b[0;32m   1003\u001b[0m                                  \u001b[0mfeed_dict\u001b[0m\u001b[1;33m,\u001b[0m \u001b[0mfetch_list\u001b[0m\u001b[1;33m,\u001b[0m \u001b[0mtarget_list\u001b[0m\u001b[1;33m,\u001b[0m\u001b[1;33m\u001b[0m\u001b[0m\n\u001b[1;32m-> 1004\u001b[1;33m                                  status, run_metadata)\n\u001b[0m\u001b[0;32m   1005\u001b[0m \u001b[1;33m\u001b[0m\u001b[0m\n",
      "\u001b[1;32mC:\\Users\\Dell\\Anaconda3\\envs\\tensorflow-cpu\\lib\\contextlib.py\u001b[0m in \u001b[0;36m__exit__\u001b[1;34m(self, type, value, traceback)\u001b[0m\n\u001b[0;32m     65\u001b[0m             \u001b[1;32mtry\u001b[0m\u001b[1;33m:\u001b[0m\u001b[1;33m\u001b[0m\u001b[0m\n\u001b[1;32m---> 66\u001b[1;33m                 \u001b[0mnext\u001b[0m\u001b[1;33m(\u001b[0m\u001b[0mself\u001b[0m\u001b[1;33m.\u001b[0m\u001b[0mgen\u001b[0m\u001b[1;33m)\u001b[0m\u001b[1;33m\u001b[0m\u001b[0m\n\u001b[0m\u001b[0;32m     67\u001b[0m             \u001b[1;32mexcept\u001b[0m \u001b[0mStopIteration\u001b[0m\u001b[1;33m:\u001b[0m\u001b[1;33m\u001b[0m\u001b[0m\n",
      "\u001b[1;32mC:\\Users\\Dell\\Anaconda3\\envs\\tensorflow-cpu\\lib\\site-packages\\tensorflow\\python\\framework\\errors_impl.py\u001b[0m in \u001b[0;36mraise_exception_on_not_ok_status\u001b[1;34m()\u001b[0m\n\u001b[0;32m    465\u001b[0m           \u001b[0mcompat\u001b[0m\u001b[1;33m.\u001b[0m\u001b[0mas_text\u001b[0m\u001b[1;33m(\u001b[0m\u001b[0mpywrap_tensorflow\u001b[0m\u001b[1;33m.\u001b[0m\u001b[0mTF_Message\u001b[0m\u001b[1;33m(\u001b[0m\u001b[0mstatus\u001b[0m\u001b[1;33m)\u001b[0m\u001b[1;33m)\u001b[0m\u001b[1;33m,\u001b[0m\u001b[1;33m\u001b[0m\u001b[0m\n\u001b[1;32m--> 466\u001b[1;33m           pywrap_tensorflow.TF_GetCode(status))\n\u001b[0m\u001b[0;32m    467\u001b[0m   \u001b[1;32mfinally\u001b[0m\u001b[1;33m:\u001b[0m\u001b[1;33m\u001b[0m\u001b[0m\n",
      "\u001b[1;31mFailedPreconditionError\u001b[0m: Attempting to use uninitialized value Variable\n\t [[Node: Variable/read = Identity[T=DT_FLOAT, _class=[\"loc:@Variable\"], _device=\"/job:localhost/replica:0/task:0/cpu:0\"](Variable)]]",
      "\nDuring handling of the above exception, another exception occurred:\n",
      "\u001b[1;31mFailedPreconditionError\u001b[0m                   Traceback (most recent call last)",
      "\u001b[1;32m<ipython-input-79-c02ea575824f>\u001b[0m in \u001b[0;36m<module>\u001b[1;34m()\u001b[0m\n\u001b[0;32m     30\u001b[0m         probabilities, prev_state = sess.run(\n\u001b[0;32m     31\u001b[0m             \u001b[1;33m[\u001b[0m\u001b[0mprobs\u001b[0m\u001b[1;33m,\u001b[0m \u001b[0mfinal_state\u001b[0m\u001b[1;33m]\u001b[0m\u001b[1;33m,\u001b[0m\u001b[1;33m\u001b[0m\u001b[0m\n\u001b[1;32m---> 32\u001b[1;33m             {input_text: dyn_input, initial_state: prev_state})\n\u001b[0m\u001b[0;32m     33\u001b[0m \u001b[1;33m\u001b[0m\u001b[0m\n\u001b[0;32m     34\u001b[0m         \u001b[0mpred_word\u001b[0m \u001b[1;33m=\u001b[0m \u001b[0mpick_word\u001b[0m\u001b[1;33m(\u001b[0m\u001b[0mprobabilities\u001b[0m\u001b[1;33m[\u001b[0m\u001b[0mdyn_seq_length\u001b[0m\u001b[1;33m-\u001b[0m\u001b[1;36m1\u001b[0m\u001b[1;33m]\u001b[0m\u001b[1;33m,\u001b[0m \u001b[0mint_to_vocab\u001b[0m\u001b[1;33m)\u001b[0m\u001b[1;33m\u001b[0m\u001b[0m\n",
      "\u001b[1;32mC:\\Users\\Dell\\Anaconda3\\envs\\tensorflow-cpu\\lib\\site-packages\\tensorflow\\python\\client\\session.py\u001b[0m in \u001b[0;36mrun\u001b[1;34m(self, fetches, feed_dict, options, run_metadata)\u001b[0m\n\u001b[0;32m    765\u001b[0m     \u001b[1;32mtry\u001b[0m\u001b[1;33m:\u001b[0m\u001b[1;33m\u001b[0m\u001b[0m\n\u001b[0;32m    766\u001b[0m       result = self._run(None, fetches, feed_dict, options_ptr,\n\u001b[1;32m--> 767\u001b[1;33m                          run_metadata_ptr)\n\u001b[0m\u001b[0;32m    768\u001b[0m       \u001b[1;32mif\u001b[0m \u001b[0mrun_metadata\u001b[0m\u001b[1;33m:\u001b[0m\u001b[1;33m\u001b[0m\u001b[0m\n\u001b[0;32m    769\u001b[0m         \u001b[0mproto_data\u001b[0m \u001b[1;33m=\u001b[0m \u001b[0mtf_session\u001b[0m\u001b[1;33m.\u001b[0m\u001b[0mTF_GetBuffer\u001b[0m\u001b[1;33m(\u001b[0m\u001b[0mrun_metadata_ptr\u001b[0m\u001b[1;33m)\u001b[0m\u001b[1;33m\u001b[0m\u001b[0m\n",
      "\u001b[1;32mC:\\Users\\Dell\\Anaconda3\\envs\\tensorflow-cpu\\lib\\site-packages\\tensorflow\\python\\client\\session.py\u001b[0m in \u001b[0;36m_run\u001b[1;34m(self, handle, fetches, feed_dict, options, run_metadata)\u001b[0m\n\u001b[0;32m    963\u001b[0m     \u001b[1;32mif\u001b[0m \u001b[0mfinal_fetches\u001b[0m \u001b[1;32mor\u001b[0m \u001b[0mfinal_targets\u001b[0m\u001b[1;33m:\u001b[0m\u001b[1;33m\u001b[0m\u001b[0m\n\u001b[0;32m    964\u001b[0m       results = self._do_run(handle, final_targets, final_fetches,\n\u001b[1;32m--> 965\u001b[1;33m                              feed_dict_string, options, run_metadata)\n\u001b[0m\u001b[0;32m    966\u001b[0m     \u001b[1;32melse\u001b[0m\u001b[1;33m:\u001b[0m\u001b[1;33m\u001b[0m\u001b[0m\n\u001b[0;32m    967\u001b[0m       \u001b[0mresults\u001b[0m \u001b[1;33m=\u001b[0m \u001b[1;33m[\u001b[0m\u001b[1;33m]\u001b[0m\u001b[1;33m\u001b[0m\u001b[0m\n",
      "\u001b[1;32mC:\\Users\\Dell\\Anaconda3\\envs\\tensorflow-cpu\\lib\\site-packages\\tensorflow\\python\\client\\session.py\u001b[0m in \u001b[0;36m_do_run\u001b[1;34m(self, handle, target_list, fetch_list, feed_dict, options, run_metadata)\u001b[0m\n\u001b[0;32m   1013\u001b[0m     \u001b[1;32mif\u001b[0m \u001b[0mhandle\u001b[0m \u001b[1;32mis\u001b[0m \u001b[1;32mNone\u001b[0m\u001b[1;33m:\u001b[0m\u001b[1;33m\u001b[0m\u001b[0m\n\u001b[0;32m   1014\u001b[0m       return self._do_call(_run_fn, self._session, feed_dict, fetch_list,\n\u001b[1;32m-> 1015\u001b[1;33m                            target_list, options, run_metadata)\n\u001b[0m\u001b[0;32m   1016\u001b[0m     \u001b[1;32melse\u001b[0m\u001b[1;33m:\u001b[0m\u001b[1;33m\u001b[0m\u001b[0m\n\u001b[0;32m   1017\u001b[0m       return self._do_call(_prun_fn, self._session, handle, feed_dict,\n",
      "\u001b[1;32mC:\\Users\\Dell\\Anaconda3\\envs\\tensorflow-cpu\\lib\\site-packages\\tensorflow\\python\\client\\session.py\u001b[0m in \u001b[0;36m_do_call\u001b[1;34m(self, fn, *args)\u001b[0m\n\u001b[0;32m   1033\u001b[0m         \u001b[1;32mexcept\u001b[0m \u001b[0mKeyError\u001b[0m\u001b[1;33m:\u001b[0m\u001b[1;33m\u001b[0m\u001b[0m\n\u001b[0;32m   1034\u001b[0m           \u001b[1;32mpass\u001b[0m\u001b[1;33m\u001b[0m\u001b[0m\n\u001b[1;32m-> 1035\u001b[1;33m       \u001b[1;32mraise\u001b[0m \u001b[0mtype\u001b[0m\u001b[1;33m(\u001b[0m\u001b[0me\u001b[0m\u001b[1;33m)\u001b[0m\u001b[1;33m(\u001b[0m\u001b[0mnode_def\u001b[0m\u001b[1;33m,\u001b[0m \u001b[0mop\u001b[0m\u001b[1;33m,\u001b[0m \u001b[0mmessage\u001b[0m\u001b[1;33m)\u001b[0m\u001b[1;33m\u001b[0m\u001b[0m\n\u001b[0m\u001b[0;32m   1036\u001b[0m \u001b[1;33m\u001b[0m\u001b[0m\n\u001b[0;32m   1037\u001b[0m   \u001b[1;32mdef\u001b[0m \u001b[0m_extend_graph\u001b[0m\u001b[1;33m(\u001b[0m\u001b[0mself\u001b[0m\u001b[1;33m)\u001b[0m\u001b[1;33m:\u001b[0m\u001b[1;33m\u001b[0m\u001b[0m\n",
      "\u001b[1;31mFailedPreconditionError\u001b[0m: Attempting to use uninitialized value Variable\n\t [[Node: Variable/read = Identity[T=DT_FLOAT, _class=[\"loc:@Variable\"], _device=\"/job:localhost/replica:0/task:0/cpu:0\"](Variable)]]\n\nCaused by op 'Variable/read', defined at:\n  File \"C:\\Users\\Dell\\Anaconda3\\envs\\tensorflow-cpu\\lib\\runpy.py\", line 193, in _run_module_as_main\n    \"__main__\", mod_spec)\n  File \"C:\\Users\\Dell\\Anaconda3\\envs\\tensorflow-cpu\\lib\\runpy.py\", line 85, in _run_code\n    exec(code, run_globals)\n  File \"C:\\Users\\Dell\\Anaconda3\\envs\\tensorflow-cpu\\lib\\site-packages\\ipykernel\\__main__.py\", line 3, in <module>\n    app.launch_new_instance()\n  File \"C:\\Users\\Dell\\Anaconda3\\envs\\tensorflow-cpu\\lib\\site-packages\\traitlets\\config\\application.py\", line 658, in launch_instance\n    app.start()\n  File \"C:\\Users\\Dell\\Anaconda3\\envs\\tensorflow-cpu\\lib\\site-packages\\ipykernel\\kernelapp.py\", line 474, in start\n    ioloop.IOLoop.instance().start()\n  File \"C:\\Users\\Dell\\Anaconda3\\envs\\tensorflow-cpu\\lib\\site-packages\\zmq\\eventloop\\ioloop.py\", line 177, in start\n    super(ZMQIOLoop, self).start()\n  File \"C:\\Users\\Dell\\Anaconda3\\envs\\tensorflow-cpu\\lib\\site-packages\\tornado\\ioloop.py\", line 887, in start\n    handler_func(fd_obj, events)\n  File \"C:\\Users\\Dell\\Anaconda3\\envs\\tensorflow-cpu\\lib\\site-packages\\tornado\\stack_context.py\", line 275, in null_wrapper\n    return fn(*args, **kwargs)\n  File \"C:\\Users\\Dell\\Anaconda3\\envs\\tensorflow-cpu\\lib\\site-packages\\zmq\\eventloop\\zmqstream.py\", line 440, in _handle_events\n    self._handle_recv()\n  File \"C:\\Users\\Dell\\Anaconda3\\envs\\tensorflow-cpu\\lib\\site-packages\\zmq\\eventloop\\zmqstream.py\", line 472, in _handle_recv\n    self._run_callback(callback, msg)\n  File \"C:\\Users\\Dell\\Anaconda3\\envs\\tensorflow-cpu\\lib\\site-packages\\zmq\\eventloop\\zmqstream.py\", line 414, in _run_callback\n    callback(*args, **kwargs)\n  File \"C:\\Users\\Dell\\Anaconda3\\envs\\tensorflow-cpu\\lib\\site-packages\\tornado\\stack_context.py\", line 275, in null_wrapper\n    return fn(*args, **kwargs)\n  File \"C:\\Users\\Dell\\Anaconda3\\envs\\tensorflow-cpu\\lib\\site-packages\\ipykernel\\kernelbase.py\", line 276, in dispatcher\n    return self.dispatch_shell(stream, msg)\n  File \"C:\\Users\\Dell\\Anaconda3\\envs\\tensorflow-cpu\\lib\\site-packages\\ipykernel\\kernelbase.py\", line 228, in dispatch_shell\n    handler(stream, idents, msg)\n  File \"C:\\Users\\Dell\\Anaconda3\\envs\\tensorflow-cpu\\lib\\site-packages\\ipykernel\\kernelbase.py\", line 390, in execute_request\n    user_expressions, allow_stdin)\n  File \"C:\\Users\\Dell\\Anaconda3\\envs\\tensorflow-cpu\\lib\\site-packages\\ipykernel\\ipkernel.py\", line 196, in do_execute\n    res = shell.run_cell(code, store_history=store_history, silent=silent)\n  File \"C:\\Users\\Dell\\Anaconda3\\envs\\tensorflow-cpu\\lib\\site-packages\\ipykernel\\zmqshell.py\", line 501, in run_cell\n    return super(ZMQInteractiveShell, self).run_cell(*args, **kwargs)\n  File \"C:\\Users\\Dell\\Anaconda3\\envs\\tensorflow-cpu\\lib\\site-packages\\IPython\\core\\interactiveshell.py\", line 2717, in run_cell\n    interactivity=interactivity, compiler=compiler, result=result)\n  File \"C:\\Users\\Dell\\Anaconda3\\envs\\tensorflow-cpu\\lib\\site-packages\\IPython\\core\\interactiveshell.py\", line 2821, in run_ast_nodes\n    if self.run_code(code, result):\n  File \"C:\\Users\\Dell\\Anaconda3\\envs\\tensorflow-cpu\\lib\\site-packages\\IPython\\core\\interactiveshell.py\", line 2881, in run_code\n    exec(code_obj, self.user_global_ns, self.user_ns)\n  File \"<ipython-input-69-33f70c17d6c6>\", line 12, in <module>\n    logits, final_state = build_nn(cell, rnn_size, input_text, vocab_size)\n  File \"<ipython-input-13-a2ea0e439504>\", line 11, in build_nn\n    embed = get_embed(input_data, vocab_size, embed_dim, has_name_scope=has_name_scope)\n  File \"<ipython-input-11-ac35f1ca8e3f>\", line 18, in get_embed\n    embedding = tf.Variable(embed_init)\n  File \"C:\\Users\\Dell\\Anaconda3\\envs\\tensorflow-cpu\\lib\\site-packages\\tensorflow\\python\\ops\\variables.py\", line 197, in __init__\n    expected_shape=expected_shape)\n  File \"C:\\Users\\Dell\\Anaconda3\\envs\\tensorflow-cpu\\lib\\site-packages\\tensorflow\\python\\ops\\variables.py\", line 315, in _init_from_args\n    self._snapshot = array_ops.identity(self._variable, name=\"read\")\n  File \"C:\\Users\\Dell\\Anaconda3\\envs\\tensorflow-cpu\\lib\\site-packages\\tensorflow\\python\\ops\\gen_array_ops.py\", line 1490, in identity\n    result = _op_def_lib.apply_op(\"Identity\", input=input, name=name)\n  File \"C:\\Users\\Dell\\Anaconda3\\envs\\tensorflow-cpu\\lib\\site-packages\\tensorflow\\python\\framework\\op_def_library.py\", line 763, in apply_op\n    op_def=op_def)\n  File \"C:\\Users\\Dell\\Anaconda3\\envs\\tensorflow-cpu\\lib\\site-packages\\tensorflow\\python\\framework\\ops.py\", line 2327, in create_op\n    original_op=self._default_original_op, op_def=op_def)\n  File \"C:\\Users\\Dell\\Anaconda3\\envs\\tensorflow-cpu\\lib\\site-packages\\tensorflow\\python\\framework\\ops.py\", line 1226, in __init__\n    self._traceback = _extract_stack()\n\nFailedPreconditionError (see above for traceback): Attempting to use uninitialized value Variable\n\t [[Node: Variable/read = Identity[T=DT_FLOAT, _class=[\"loc:@Variable\"], _device=\"/job:localhost/replica:0/task:0/cpu:0\"](Variable)]]\n"
     ]
    }
   ],
   "source": [
    "gen_length = 200\n",
    "# homer_simpson, moe_szyslak, or Barney_Gumble\n",
    "prime_word = 'moe_szyslak'\n",
    "\n",
    "\"\"\"\n",
    "DON'T MODIFY ANYTHING IN THIS CELL THAT IS BELOW THIS LINE\n",
    "\"\"\"\n",
    "# loaded_graph = tf.Graph()\n",
    "loaded_graph = train_graph\n",
    "hns = False\n",
    "with tf.Session(graph=loaded_graph) as sess:\n",
    "    # Load saved model\n",
    "    loader = tf.train.import_meta_graph(load_dir + '.meta')\n",
    "    loader.restore(sess, load_dir)\n",
    "\n",
    "    # Get Tensors from loaded model\n",
    "    input_text, initial_state, final_state, probs = get_tensors(loaded_graph,has_name_scope=hns)\n",
    "\n",
    "    # Sentences generation setup\n",
    "    gen_sentences = [prime_word + ':']\n",
    "    prev_state = sess.run(initial_state, {input_text: np.array([[1]])})\n",
    "\n",
    "    # Generate sentences\n",
    "    for n in range(gen_length):\n",
    "        # Dynamic Input\n",
    "        dyn_input = [[vocab_to_int[word] for word in gen_sentences[-seq_length:]]]\n",
    "        dyn_seq_length = len(dyn_input[0])\n",
    "\n",
    "        # Get Prediction\n",
    "        probabilities, prev_state = sess.run(\n",
    "            [probs, final_state],\n",
    "            {input_text: dyn_input, initial_state: prev_state})\n",
    "        \n",
    "        pred_word = pick_word(probabilities[dyn_seq_length-1], int_to_vocab)\n",
    "\n",
    "        gen_sentences.append(pred_word)\n",
    "    \n",
    "    # Remove tokens\n",
    "    tv_script = ' '.join(gen_sentences)\n",
    "    for key, token in token_dict.items():\n",
    "        ending = ' ' if key in ['\\n', '(', '\"'] else ''\n",
    "        tv_script = tv_script.replace(' ' + token.lower(), key)\n",
    "    tv_script = tv_script.replace('\\n ', '\\n')\n",
    "    tv_script = tv_script.replace('( ', '(')\n",
    "        \n",
    "    print(tv_script)"
   ]
  },
  {
   "cell_type": "markdown",
   "metadata": {
    "deletable": true,
    "editable": true
   },
   "source": [
    "# The TV Script is Nonsensical\n",
    "It's ok if the TV script doesn't make any sense.  We trained on less than a megabyte of text.  In order to get good results, you'll have to use a smaller vocabulary or get more data.  Luckly there's more data!  As we mentioned in the begging of this project, this is a subset of [another dataset](https://www.kaggle.com/wcukierski/the-simpsons-by-the-data).  We didn't have you train on all the data, because that would take too long.  However, you are free to train your neural network on all the data.  After you complete the project, of course.\n",
    "# Submitting This Project\n",
    "When submitting this project, make sure to run all the cells before saving the notebook. Save the notebook file as \"dlnd_tv_script_generation.ipynb\" and save it as a HTML file under \"File\" -> \"Download as\". Include the \"helper.py\" and \"problem_unittests.py\" files in your submission."
   ]
  }
 ],
 "metadata": {
  "anaconda-cloud": {},
  "kernelspec": {
   "display_name": "Python 3",
   "language": "python",
   "name": "python3"
  },
  "language_info": {
   "codemirror_mode": {
    "name": "ipython",
    "version": 3
   },
   "file_extension": ".py",
   "mimetype": "text/x-python",
   "name": "python",
   "nbconvert_exporter": "python",
   "pygments_lexer": "ipython3",
   "version": "3.5.3"
  }
 },
 "nbformat": 4,
 "nbformat_minor": 0
}
